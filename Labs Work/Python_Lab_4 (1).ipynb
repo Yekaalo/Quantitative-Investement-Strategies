{
  "cells": [
    {
      "cell_type": "code",
      "execution_count": 2,
      "id": "feb72605",
      "metadata": {
        "id": "feb72605"
      },
      "outputs": [],
      "source": [
        "import pandas as pd\n",
        "import numpy as np\n",
        "import seaborn as sns\n",
        "import matplotlib.pyplot as plt"
      ]
    },
    {
      "cell_type": "code",
      "source": [
        "from google.colab import drive\n",
        "drive.mount('/content/drive')"
      ],
      "metadata": {
        "colab": {
          "base_uri": "https://localhost:8080/"
        },
        "id": "HmEobWKqLXSY",
        "outputId": "09606eec-1470-447d-8601-50f2650097cc"
      },
      "id": "HmEobWKqLXSY",
      "execution_count": 3,
      "outputs": [
        {
          "output_type": "stream",
          "name": "stdout",
          "text": [
            "Mounted at /content/drive\n"
          ]
        }
      ]
    },
    {
      "cell_type": "code",
      "execution_count": 4,
      "id": "6a3684a6",
      "metadata": {
        "colab": {
          "base_uri": "https://localhost:8080/"
        },
        "id": "6a3684a6",
        "outputId": "fa0ded8a-2b7e-436d-87c0-4cbcf4b26a99"
      },
      "outputs": [
        {
          "output_type": "stream",
          "name": "stderr",
          "text": [
            "/usr/local/lib/python3.8/dist-packages/openpyxl/styles/stylesheet.py:226: UserWarning: Workbook contains no default style, apply openpyxl's default\n",
            "  warn(\"Workbook contains no default style, apply openpyxl's default\")\n"
          ]
        }
      ],
      "source": [
        "data = pd.read_excel('/content/drive/MyDrive/QIS/lab4_data.xlsx')\n"
      ]
    },
    {
      "cell_type": "markdown",
      "source": [
        "# Problem 4.1 Clean Up"
      ],
      "metadata": {
        "id": "PeifCEiFDM-2"
      },
      "id": "PeifCEiFDM-2"
    },
    {
      "cell_type": "code",
      "source": [
        "data.head()"
      ],
      "metadata": {
        "colab": {
          "base_uri": "https://localhost:8080/",
          "height": 0
        },
        "id": "YhghFkLEC9Uw",
        "outputId": "101f343d-904d-4f86-9bcf-5659ea25308a"
      },
      "id": "YhghFkLEC9Uw",
      "execution_count": 5,
      "outputs": [
        {
          "output_type": "execute_result",
          "data": {
            "text/plain": [
              "                                     Name Ticker Exchange  \\\n",
              "0                    1-800 Contacts, Inc.   CTAC   NASDAQ   \n",
              "1                 1-800 Flowers.com, Inc.   FLWS   NASDAQ   \n",
              "2              1st Century Bancshrs, Inc.   FCTY   NASDAQ   \n",
              "3                1st Constitution Bancorp   FCCY   NASDAQ   \n",
              "4  1st Independence Financial Group, Inc.   FIFG   NASDAQ   \n",
              "\n",
              "   E/P - Daily 2004-12-31  Daily Closing Price 2004-12-31 USD  \\\n",
              "0               -0.010000                            22.00000   \n",
              "1                0.076190                             8.40000   \n",
              "2                     NaN                             7.87500   \n",
              "3                0.059784                            12.34952   \n",
              "4               -0.044257                            18.98000   \n",
              "\n",
              "   Market Cap - Monthly 2004-12  BE/ME - Monthly 2004-12  \\\n",
              "0                   292349046.0                 0.200118   \n",
              "1                   554979079.0                 0.343893   \n",
              "2                    83160000.0                      NaN   \n",
              "3                    58586591.0                 0.457281   \n",
              "4                    36315724.0                 1.038282   \n",
              "\n",
              "   One-Year Momentum 2004  Yearly Return Year 2005  FF Industry  \n",
              "0               -0.032151                -0.468182         43.0  \n",
              "1               -0.293015                -0.235714         43.0  \n",
              "2                0.471962                 0.231746         45.0  \n",
              "3                0.338723                 0.211209         45.0  \n",
              "4               -0.135089                -0.004630         45.0  "
            ],
            "text/html": [
              "\n",
              "  <div id=\"df-e2f6b83c-975b-4719-ac08-17d102c5db91\">\n",
              "    <div class=\"colab-df-container\">\n",
              "      <div>\n",
              "<style scoped>\n",
              "    .dataframe tbody tr th:only-of-type {\n",
              "        vertical-align: middle;\n",
              "    }\n",
              "\n",
              "    .dataframe tbody tr th {\n",
              "        vertical-align: top;\n",
              "    }\n",
              "\n",
              "    .dataframe thead th {\n",
              "        text-align: right;\n",
              "    }\n",
              "</style>\n",
              "<table border=\"1\" class=\"dataframe\">\n",
              "  <thead>\n",
              "    <tr style=\"text-align: right;\">\n",
              "      <th></th>\n",
              "      <th>Name</th>\n",
              "      <th>Ticker</th>\n",
              "      <th>Exchange</th>\n",
              "      <th>E/P - Daily 2004-12-31</th>\n",
              "      <th>Daily Closing Price 2004-12-31 USD</th>\n",
              "      <th>Market Cap - Monthly 2004-12</th>\n",
              "      <th>BE/ME - Monthly 2004-12</th>\n",
              "      <th>One-Year Momentum 2004</th>\n",
              "      <th>Yearly Return Year 2005</th>\n",
              "      <th>FF Industry</th>\n",
              "    </tr>\n",
              "  </thead>\n",
              "  <tbody>\n",
              "    <tr>\n",
              "      <th>0</th>\n",
              "      <td>1-800 Contacts, Inc.</td>\n",
              "      <td>CTAC</td>\n",
              "      <td>NASDAQ</td>\n",
              "      <td>-0.010000</td>\n",
              "      <td>22.00000</td>\n",
              "      <td>292349046.0</td>\n",
              "      <td>0.200118</td>\n",
              "      <td>-0.032151</td>\n",
              "      <td>-0.468182</td>\n",
              "      <td>43.0</td>\n",
              "    </tr>\n",
              "    <tr>\n",
              "      <th>1</th>\n",
              "      <td>1-800 Flowers.com, Inc.</td>\n",
              "      <td>FLWS</td>\n",
              "      <td>NASDAQ</td>\n",
              "      <td>0.076190</td>\n",
              "      <td>8.40000</td>\n",
              "      <td>554979079.0</td>\n",
              "      <td>0.343893</td>\n",
              "      <td>-0.293015</td>\n",
              "      <td>-0.235714</td>\n",
              "      <td>43.0</td>\n",
              "    </tr>\n",
              "    <tr>\n",
              "      <th>2</th>\n",
              "      <td>1st Century Bancshrs, Inc.</td>\n",
              "      <td>FCTY</td>\n",
              "      <td>NASDAQ</td>\n",
              "      <td>NaN</td>\n",
              "      <td>7.87500</td>\n",
              "      <td>83160000.0</td>\n",
              "      <td>NaN</td>\n",
              "      <td>0.471962</td>\n",
              "      <td>0.231746</td>\n",
              "      <td>45.0</td>\n",
              "    </tr>\n",
              "    <tr>\n",
              "      <th>3</th>\n",
              "      <td>1st Constitution Bancorp</td>\n",
              "      <td>FCCY</td>\n",
              "      <td>NASDAQ</td>\n",
              "      <td>0.059784</td>\n",
              "      <td>12.34952</td>\n",
              "      <td>58586591.0</td>\n",
              "      <td>0.457281</td>\n",
              "      <td>0.338723</td>\n",
              "      <td>0.211209</td>\n",
              "      <td>45.0</td>\n",
              "    </tr>\n",
              "    <tr>\n",
              "      <th>4</th>\n",
              "      <td>1st Independence Financial Group, Inc.</td>\n",
              "      <td>FIFG</td>\n",
              "      <td>NASDAQ</td>\n",
              "      <td>-0.044257</td>\n",
              "      <td>18.98000</td>\n",
              "      <td>36315724.0</td>\n",
              "      <td>1.038282</td>\n",
              "      <td>-0.135089</td>\n",
              "      <td>-0.004630</td>\n",
              "      <td>45.0</td>\n",
              "    </tr>\n",
              "  </tbody>\n",
              "</table>\n",
              "</div>\n",
              "      <button class=\"colab-df-convert\" onclick=\"convertToInteractive('df-e2f6b83c-975b-4719-ac08-17d102c5db91')\"\n",
              "              title=\"Convert this dataframe to an interactive table.\"\n",
              "              style=\"display:none;\">\n",
              "        \n",
              "  <svg xmlns=\"http://www.w3.org/2000/svg\" height=\"24px\"viewBox=\"0 0 24 24\"\n",
              "       width=\"24px\">\n",
              "    <path d=\"M0 0h24v24H0V0z\" fill=\"none\"/>\n",
              "    <path d=\"M18.56 5.44l.94 2.06.94-2.06 2.06-.94-2.06-.94-.94-2.06-.94 2.06-2.06.94zm-11 1L8.5 8.5l.94-2.06 2.06-.94-2.06-.94L8.5 2.5l-.94 2.06-2.06.94zm10 10l.94 2.06.94-2.06 2.06-.94-2.06-.94-.94-2.06-.94 2.06-2.06.94z\"/><path d=\"M17.41 7.96l-1.37-1.37c-.4-.4-.92-.59-1.43-.59-.52 0-1.04.2-1.43.59L10.3 9.45l-7.72 7.72c-.78.78-.78 2.05 0 2.83L4 21.41c.39.39.9.59 1.41.59.51 0 1.02-.2 1.41-.59l7.78-7.78 2.81-2.81c.8-.78.8-2.07 0-2.86zM5.41 20L4 18.59l7.72-7.72 1.47 1.35L5.41 20z\"/>\n",
              "  </svg>\n",
              "      </button>\n",
              "      \n",
              "  <style>\n",
              "    .colab-df-container {\n",
              "      display:flex;\n",
              "      flex-wrap:wrap;\n",
              "      gap: 12px;\n",
              "    }\n",
              "\n",
              "    .colab-df-convert {\n",
              "      background-color: #E8F0FE;\n",
              "      border: none;\n",
              "      border-radius: 50%;\n",
              "      cursor: pointer;\n",
              "      display: none;\n",
              "      fill: #1967D2;\n",
              "      height: 32px;\n",
              "      padding: 0 0 0 0;\n",
              "      width: 32px;\n",
              "    }\n",
              "\n",
              "    .colab-df-convert:hover {\n",
              "      background-color: #E2EBFA;\n",
              "      box-shadow: 0px 1px 2px rgba(60, 64, 67, 0.3), 0px 1px 3px 1px rgba(60, 64, 67, 0.15);\n",
              "      fill: #174EA6;\n",
              "    }\n",
              "\n",
              "    [theme=dark] .colab-df-convert {\n",
              "      background-color: #3B4455;\n",
              "      fill: #D2E3FC;\n",
              "    }\n",
              "\n",
              "    [theme=dark] .colab-df-convert:hover {\n",
              "      background-color: #434B5C;\n",
              "      box-shadow: 0px 1px 3px 1px rgba(0, 0, 0, 0.15);\n",
              "      filter: drop-shadow(0px 1px 2px rgba(0, 0, 0, 0.3));\n",
              "      fill: #FFFFFF;\n",
              "    }\n",
              "  </style>\n",
              "\n",
              "      <script>\n",
              "        const buttonEl =\n",
              "          document.querySelector('#df-e2f6b83c-975b-4719-ac08-17d102c5db91 button.colab-df-convert');\n",
              "        buttonEl.style.display =\n",
              "          google.colab.kernel.accessAllowed ? 'block' : 'none';\n",
              "\n",
              "        async function convertToInteractive(key) {\n",
              "          const element = document.querySelector('#df-e2f6b83c-975b-4719-ac08-17d102c5db91');\n",
              "          const dataTable =\n",
              "            await google.colab.kernel.invokeFunction('convertToInteractive',\n",
              "                                                     [key], {});\n",
              "          if (!dataTable) return;\n",
              "\n",
              "          const docLinkHtml = 'Like what you see? Visit the ' +\n",
              "            '<a target=\"_blank\" href=https://colab.research.google.com/notebooks/data_table.ipynb>data table notebook</a>'\n",
              "            + ' to learn more about interactive tables.';\n",
              "          element.innerHTML = '';\n",
              "          dataTable['output_type'] = 'display_data';\n",
              "          await google.colab.output.renderOutput(dataTable, element);\n",
              "          const docLink = document.createElement('div');\n",
              "          docLink.innerHTML = docLinkHtml;\n",
              "          element.appendChild(docLink);\n",
              "        }\n",
              "      </script>\n",
              "    </div>\n",
              "  </div>\n",
              "  "
            ]
          },
          "metadata": {},
          "execution_count": 5
        }
      ]
    },
    {
      "cell_type": "code",
      "execution_count": 6,
      "id": "55ed5744",
      "metadata": {
        "colab": {
          "base_uri": "https://localhost:8080/"
        },
        "id": "55ed5744",
        "outputId": "787b87bd-3fed-4335-d958-0c27c8073d56"
      },
      "outputs": [
        {
          "output_type": "execute_result",
          "data": {
            "text/plain": [
              "(8870, 10)"
            ]
          },
          "metadata": {},
          "execution_count": 6
        }
      ],
      "source": [
        "data.shape"
      ]
    },
    {
      "cell_type": "code",
      "execution_count": 7,
      "id": "9f93c6c7",
      "metadata": {
        "colab": {
          "base_uri": "https://localhost:8080/"
        },
        "id": "9f93c6c7",
        "outputId": "21cc8f75-3558-451d-f5d6-ace9a4203e48"
      },
      "outputs": [
        {
          "output_type": "execute_result",
          "data": {
            "text/plain": [
              "(4885, 10)"
            ]
          },
          "metadata": {},
          "execution_count": 7
        }
      ],
      "source": [
        "data = data.dropna()\n",
        "data.shape"
      ]
    },
    {
      "cell_type": "code",
      "execution_count": 8,
      "id": "f9575e4c",
      "metadata": {
        "id": "f9575e4c"
      },
      "outputs": [],
      "source": [
        "data = data.rename(columns = {'E/P - Daily 2004-12-31': 'E/P', 'Daily Closing Price 2004-12-31 USD': \n",
        "                              'Closing', 'Market Cap - Monthly 2004-12': 'Cap', 'BE/ME - Monthly 2004-12': 'BEME',\n",
        "                              'One-Year Momentum 2004':'Y_Momentum', 'Yearly Return Year 2005': 'Y_Return',\n",
        "                              'FF Industry': 'Industry'})"
      ]
    },
    {
      "cell_type": "code",
      "execution_count": 9,
      "id": "e9a34d38",
      "metadata": {
        "colab": {
          "base_uri": "https://localhost:8080/",
          "height": 0
        },
        "id": "e9a34d38",
        "outputId": "6ab2c821-9341-46d4-845a-34f163ccb355"
      },
      "outputs": [
        {
          "output_type": "execute_result",
          "data": {
            "text/plain": [
              "                                     Name Ticker Exchange       E/P   Closing  \\\n",
              "0                    1-800 Contacts, Inc.   CTAC   NASDAQ -0.010000  22.00000   \n",
              "1                 1-800 Flowers.com, Inc.   FLWS   NASDAQ  0.076190   8.40000   \n",
              "3                1st Constitution Bancorp   FCCY   NASDAQ  0.059784  12.34952   \n",
              "4  1st Independence Financial Group, Inc.   FIFG   NASDAQ -0.044257  18.98000   \n",
              "7                  1st Source Corporation   SRCE   NASDAQ  0.042340  23.19091   \n",
              "\n",
              "           Cap      BEME  Y_Momentum  Y_Return  Industry  \n",
              "0  292349046.0  0.200118   -0.032151 -0.468182      43.0  \n",
              "1  554979079.0  0.343893   -0.293015 -0.235714      43.0  \n",
              "3   58586591.0  0.457281    0.338723  0.211209      45.0  \n",
              "4   36315724.0  1.038282   -0.135089 -0.004630      45.0  \n",
              "7  528712767.0  0.617725    0.205520  0.006680      45.0  "
            ],
            "text/html": [
              "\n",
              "  <div id=\"df-93dc52dd-823e-45ae-85d3-1d379c03305b\">\n",
              "    <div class=\"colab-df-container\">\n",
              "      <div>\n",
              "<style scoped>\n",
              "    .dataframe tbody tr th:only-of-type {\n",
              "        vertical-align: middle;\n",
              "    }\n",
              "\n",
              "    .dataframe tbody tr th {\n",
              "        vertical-align: top;\n",
              "    }\n",
              "\n",
              "    .dataframe thead th {\n",
              "        text-align: right;\n",
              "    }\n",
              "</style>\n",
              "<table border=\"1\" class=\"dataframe\">\n",
              "  <thead>\n",
              "    <tr style=\"text-align: right;\">\n",
              "      <th></th>\n",
              "      <th>Name</th>\n",
              "      <th>Ticker</th>\n",
              "      <th>Exchange</th>\n",
              "      <th>E/P</th>\n",
              "      <th>Closing</th>\n",
              "      <th>Cap</th>\n",
              "      <th>BEME</th>\n",
              "      <th>Y_Momentum</th>\n",
              "      <th>Y_Return</th>\n",
              "      <th>Industry</th>\n",
              "    </tr>\n",
              "  </thead>\n",
              "  <tbody>\n",
              "    <tr>\n",
              "      <th>0</th>\n",
              "      <td>1-800 Contacts, Inc.</td>\n",
              "      <td>CTAC</td>\n",
              "      <td>NASDAQ</td>\n",
              "      <td>-0.010000</td>\n",
              "      <td>22.00000</td>\n",
              "      <td>292349046.0</td>\n",
              "      <td>0.200118</td>\n",
              "      <td>-0.032151</td>\n",
              "      <td>-0.468182</td>\n",
              "      <td>43.0</td>\n",
              "    </tr>\n",
              "    <tr>\n",
              "      <th>1</th>\n",
              "      <td>1-800 Flowers.com, Inc.</td>\n",
              "      <td>FLWS</td>\n",
              "      <td>NASDAQ</td>\n",
              "      <td>0.076190</td>\n",
              "      <td>8.40000</td>\n",
              "      <td>554979079.0</td>\n",
              "      <td>0.343893</td>\n",
              "      <td>-0.293015</td>\n",
              "      <td>-0.235714</td>\n",
              "      <td>43.0</td>\n",
              "    </tr>\n",
              "    <tr>\n",
              "      <th>3</th>\n",
              "      <td>1st Constitution Bancorp</td>\n",
              "      <td>FCCY</td>\n",
              "      <td>NASDAQ</td>\n",
              "      <td>0.059784</td>\n",
              "      <td>12.34952</td>\n",
              "      <td>58586591.0</td>\n",
              "      <td>0.457281</td>\n",
              "      <td>0.338723</td>\n",
              "      <td>0.211209</td>\n",
              "      <td>45.0</td>\n",
              "    </tr>\n",
              "    <tr>\n",
              "      <th>4</th>\n",
              "      <td>1st Independence Financial Group, Inc.</td>\n",
              "      <td>FIFG</td>\n",
              "      <td>NASDAQ</td>\n",
              "      <td>-0.044257</td>\n",
              "      <td>18.98000</td>\n",
              "      <td>36315724.0</td>\n",
              "      <td>1.038282</td>\n",
              "      <td>-0.135089</td>\n",
              "      <td>-0.004630</td>\n",
              "      <td>45.0</td>\n",
              "    </tr>\n",
              "    <tr>\n",
              "      <th>7</th>\n",
              "      <td>1st Source Corporation</td>\n",
              "      <td>SRCE</td>\n",
              "      <td>NASDAQ</td>\n",
              "      <td>0.042340</td>\n",
              "      <td>23.19091</td>\n",
              "      <td>528712767.0</td>\n",
              "      <td>0.617725</td>\n",
              "      <td>0.205520</td>\n",
              "      <td>0.006680</td>\n",
              "      <td>45.0</td>\n",
              "    </tr>\n",
              "  </tbody>\n",
              "</table>\n",
              "</div>\n",
              "      <button class=\"colab-df-convert\" onclick=\"convertToInteractive('df-93dc52dd-823e-45ae-85d3-1d379c03305b')\"\n",
              "              title=\"Convert this dataframe to an interactive table.\"\n",
              "              style=\"display:none;\">\n",
              "        \n",
              "  <svg xmlns=\"http://www.w3.org/2000/svg\" height=\"24px\"viewBox=\"0 0 24 24\"\n",
              "       width=\"24px\">\n",
              "    <path d=\"M0 0h24v24H0V0z\" fill=\"none\"/>\n",
              "    <path d=\"M18.56 5.44l.94 2.06.94-2.06 2.06-.94-2.06-.94-.94-2.06-.94 2.06-2.06.94zm-11 1L8.5 8.5l.94-2.06 2.06-.94-2.06-.94L8.5 2.5l-.94 2.06-2.06.94zm10 10l.94 2.06.94-2.06 2.06-.94-2.06-.94-.94-2.06-.94 2.06-2.06.94z\"/><path d=\"M17.41 7.96l-1.37-1.37c-.4-.4-.92-.59-1.43-.59-.52 0-1.04.2-1.43.59L10.3 9.45l-7.72 7.72c-.78.78-.78 2.05 0 2.83L4 21.41c.39.39.9.59 1.41.59.51 0 1.02-.2 1.41-.59l7.78-7.78 2.81-2.81c.8-.78.8-2.07 0-2.86zM5.41 20L4 18.59l7.72-7.72 1.47 1.35L5.41 20z\"/>\n",
              "  </svg>\n",
              "      </button>\n",
              "      \n",
              "  <style>\n",
              "    .colab-df-container {\n",
              "      display:flex;\n",
              "      flex-wrap:wrap;\n",
              "      gap: 12px;\n",
              "    }\n",
              "\n",
              "    .colab-df-convert {\n",
              "      background-color: #E8F0FE;\n",
              "      border: none;\n",
              "      border-radius: 50%;\n",
              "      cursor: pointer;\n",
              "      display: none;\n",
              "      fill: #1967D2;\n",
              "      height: 32px;\n",
              "      padding: 0 0 0 0;\n",
              "      width: 32px;\n",
              "    }\n",
              "\n",
              "    .colab-df-convert:hover {\n",
              "      background-color: #E2EBFA;\n",
              "      box-shadow: 0px 1px 2px rgba(60, 64, 67, 0.3), 0px 1px 3px 1px rgba(60, 64, 67, 0.15);\n",
              "      fill: #174EA6;\n",
              "    }\n",
              "\n",
              "    [theme=dark] .colab-df-convert {\n",
              "      background-color: #3B4455;\n",
              "      fill: #D2E3FC;\n",
              "    }\n",
              "\n",
              "    [theme=dark] .colab-df-convert:hover {\n",
              "      background-color: #434B5C;\n",
              "      box-shadow: 0px 1px 3px 1px rgba(0, 0, 0, 0.15);\n",
              "      filter: drop-shadow(0px 1px 2px rgba(0, 0, 0, 0.3));\n",
              "      fill: #FFFFFF;\n",
              "    }\n",
              "  </style>\n",
              "\n",
              "      <script>\n",
              "        const buttonEl =\n",
              "          document.querySelector('#df-93dc52dd-823e-45ae-85d3-1d379c03305b button.colab-df-convert');\n",
              "        buttonEl.style.display =\n",
              "          google.colab.kernel.accessAllowed ? 'block' : 'none';\n",
              "\n",
              "        async function convertToInteractive(key) {\n",
              "          const element = document.querySelector('#df-93dc52dd-823e-45ae-85d3-1d379c03305b');\n",
              "          const dataTable =\n",
              "            await google.colab.kernel.invokeFunction('convertToInteractive',\n",
              "                                                     [key], {});\n",
              "          if (!dataTable) return;\n",
              "\n",
              "          const docLinkHtml = 'Like what you see? Visit the ' +\n",
              "            '<a target=\"_blank\" href=https://colab.research.google.com/notebooks/data_table.ipynb>data table notebook</a>'\n",
              "            + ' to learn more about interactive tables.';\n",
              "          element.innerHTML = '';\n",
              "          dataTable['output_type'] = 'display_data';\n",
              "          await google.colab.output.renderOutput(dataTable, element);\n",
              "          const docLink = document.createElement('div');\n",
              "          docLink.innerHTML = docLinkHtml;\n",
              "          element.appendChild(docLink);\n",
              "        }\n",
              "      </script>\n",
              "    </div>\n",
              "  </div>\n",
              "  "
            ]
          },
          "metadata": {},
          "execution_count": 9
        }
      ],
      "source": [
        "data.head()"
      ]
    },
    {
      "cell_type": "markdown",
      "source": [
        "# Problem 4.2 Outliers and Filtration"
      ],
      "metadata": {
        "id": "l1MaHrOIDRH4"
      },
      "id": "l1MaHrOIDRH4"
    },
    {
      "cell_type": "code",
      "execution_count": 10,
      "id": "ccde7597",
      "metadata": {
        "id": "ccde7597"
      },
      "outputs": [],
      "source": [
        "def is_out(x):\n",
        "    return abs(x - x.mean()) > x.std() * 3"
      ]
    },
    {
      "cell_type": "code",
      "execution_count": 11,
      "id": "2418bd35",
      "metadata": {
        "colab": {
          "base_uri": "https://localhost:8080/",
          "height": 0
        },
        "id": "2418bd35",
        "outputId": "bae29b6d-0f6a-4873-f0a3-02dbda9d50df"
      },
      "outputs": [
        {
          "output_type": "stream",
          "name": "stdout",
          "text": [
            "Outlier Boolean DF\n",
            "     E/P  Closing    Cap   BEME  Y_Momentum\n",
            "0  False    False  False  False       False\n",
            "1  False    False  False  False       False\n",
            "-------------\n",
            "Total Outliers\n",
            "E/P            4\n",
            "Closing        1\n",
            "Cap           78\n",
            "BEME          11\n",
            "Y_Momentum    61\n",
            "dtype: int64\n",
            "-------------\n",
            "Boolean Index\n",
            "0    False\n",
            "1    False\n",
            "dtype: bool\n",
            "-------------\n",
            "Before and After Shapes\n",
            "(4885, 10)\n",
            "(4730, 10)\n"
          ]
        },
        {
          "output_type": "execute_result",
          "data": {
            "text/plain": [
              "                       Name Ticker Exchange       E/P   Closing          Cap  \\\n",
              "0      1-800 Contacts, Inc.   CTAC   NASDAQ -0.010000  22.00000  292349046.0   \n",
              "1   1-800 Flowers.com, Inc.   FLWS   NASDAQ  0.076190   8.40000  554979079.0   \n",
              "2  1st Constitution Bancorp   FCCY   NASDAQ  0.059784  12.34952   58586591.0   \n",
              "\n",
              "       BEME  Y_Momentum  Y_Return  Industry  \n",
              "0  0.200118   -0.032151 -0.468182      43.0  \n",
              "1  0.343893   -0.293015 -0.235714      43.0  \n",
              "2  0.457281    0.338723  0.211209      45.0  "
            ],
            "text/html": [
              "\n",
              "  <div id=\"df-d520072c-14cf-400a-bd28-8777c1b5551c\">\n",
              "    <div class=\"colab-df-container\">\n",
              "      <div>\n",
              "<style scoped>\n",
              "    .dataframe tbody tr th:only-of-type {\n",
              "        vertical-align: middle;\n",
              "    }\n",
              "\n",
              "    .dataframe tbody tr th {\n",
              "        vertical-align: top;\n",
              "    }\n",
              "\n",
              "    .dataframe thead th {\n",
              "        text-align: right;\n",
              "    }\n",
              "</style>\n",
              "<table border=\"1\" class=\"dataframe\">\n",
              "  <thead>\n",
              "    <tr style=\"text-align: right;\">\n",
              "      <th></th>\n",
              "      <th>Name</th>\n",
              "      <th>Ticker</th>\n",
              "      <th>Exchange</th>\n",
              "      <th>E/P</th>\n",
              "      <th>Closing</th>\n",
              "      <th>Cap</th>\n",
              "      <th>BEME</th>\n",
              "      <th>Y_Momentum</th>\n",
              "      <th>Y_Return</th>\n",
              "      <th>Industry</th>\n",
              "    </tr>\n",
              "  </thead>\n",
              "  <tbody>\n",
              "    <tr>\n",
              "      <th>0</th>\n",
              "      <td>1-800 Contacts, Inc.</td>\n",
              "      <td>CTAC</td>\n",
              "      <td>NASDAQ</td>\n",
              "      <td>-0.010000</td>\n",
              "      <td>22.00000</td>\n",
              "      <td>292349046.0</td>\n",
              "      <td>0.200118</td>\n",
              "      <td>-0.032151</td>\n",
              "      <td>-0.468182</td>\n",
              "      <td>43.0</td>\n",
              "    </tr>\n",
              "    <tr>\n",
              "      <th>1</th>\n",
              "      <td>1-800 Flowers.com, Inc.</td>\n",
              "      <td>FLWS</td>\n",
              "      <td>NASDAQ</td>\n",
              "      <td>0.076190</td>\n",
              "      <td>8.40000</td>\n",
              "      <td>554979079.0</td>\n",
              "      <td>0.343893</td>\n",
              "      <td>-0.293015</td>\n",
              "      <td>-0.235714</td>\n",
              "      <td>43.0</td>\n",
              "    </tr>\n",
              "    <tr>\n",
              "      <th>2</th>\n",
              "      <td>1st Constitution Bancorp</td>\n",
              "      <td>FCCY</td>\n",
              "      <td>NASDAQ</td>\n",
              "      <td>0.059784</td>\n",
              "      <td>12.34952</td>\n",
              "      <td>58586591.0</td>\n",
              "      <td>0.457281</td>\n",
              "      <td>0.338723</td>\n",
              "      <td>0.211209</td>\n",
              "      <td>45.0</td>\n",
              "    </tr>\n",
              "  </tbody>\n",
              "</table>\n",
              "</div>\n",
              "      <button class=\"colab-df-convert\" onclick=\"convertToInteractive('df-d520072c-14cf-400a-bd28-8777c1b5551c')\"\n",
              "              title=\"Convert this dataframe to an interactive table.\"\n",
              "              style=\"display:none;\">\n",
              "        \n",
              "  <svg xmlns=\"http://www.w3.org/2000/svg\" height=\"24px\"viewBox=\"0 0 24 24\"\n",
              "       width=\"24px\">\n",
              "    <path d=\"M0 0h24v24H0V0z\" fill=\"none\"/>\n",
              "    <path d=\"M18.56 5.44l.94 2.06.94-2.06 2.06-.94-2.06-.94-.94-2.06-.94 2.06-2.06.94zm-11 1L8.5 8.5l.94-2.06 2.06-.94-2.06-.94L8.5 2.5l-.94 2.06-2.06.94zm10 10l.94 2.06.94-2.06 2.06-.94-2.06-.94-.94-2.06-.94 2.06-2.06.94z\"/><path d=\"M17.41 7.96l-1.37-1.37c-.4-.4-.92-.59-1.43-.59-.52 0-1.04.2-1.43.59L10.3 9.45l-7.72 7.72c-.78.78-.78 2.05 0 2.83L4 21.41c.39.39.9.59 1.41.59.51 0 1.02-.2 1.41-.59l7.78-7.78 2.81-2.81c.8-.78.8-2.07 0-2.86zM5.41 20L4 18.59l7.72-7.72 1.47 1.35L5.41 20z\"/>\n",
              "  </svg>\n",
              "      </button>\n",
              "      \n",
              "  <style>\n",
              "    .colab-df-container {\n",
              "      display:flex;\n",
              "      flex-wrap:wrap;\n",
              "      gap: 12px;\n",
              "    }\n",
              "\n",
              "    .colab-df-convert {\n",
              "      background-color: #E8F0FE;\n",
              "      border: none;\n",
              "      border-radius: 50%;\n",
              "      cursor: pointer;\n",
              "      display: none;\n",
              "      fill: #1967D2;\n",
              "      height: 32px;\n",
              "      padding: 0 0 0 0;\n",
              "      width: 32px;\n",
              "    }\n",
              "\n",
              "    .colab-df-convert:hover {\n",
              "      background-color: #E2EBFA;\n",
              "      box-shadow: 0px 1px 2px rgba(60, 64, 67, 0.3), 0px 1px 3px 1px rgba(60, 64, 67, 0.15);\n",
              "      fill: #174EA6;\n",
              "    }\n",
              "\n",
              "    [theme=dark] .colab-df-convert {\n",
              "      background-color: #3B4455;\n",
              "      fill: #D2E3FC;\n",
              "    }\n",
              "\n",
              "    [theme=dark] .colab-df-convert:hover {\n",
              "      background-color: #434B5C;\n",
              "      box-shadow: 0px 1px 3px 1px rgba(0, 0, 0, 0.15);\n",
              "      filter: drop-shadow(0px 1px 2px rgba(0, 0, 0, 0.3));\n",
              "      fill: #FFFFFF;\n",
              "    }\n",
              "  </style>\n",
              "\n",
              "      <script>\n",
              "        const buttonEl =\n",
              "          document.querySelector('#df-d520072c-14cf-400a-bd28-8777c1b5551c button.colab-df-convert');\n",
              "        buttonEl.style.display =\n",
              "          google.colab.kernel.accessAllowed ? 'block' : 'none';\n",
              "\n",
              "        async function convertToInteractive(key) {\n",
              "          const element = document.querySelector('#df-d520072c-14cf-400a-bd28-8777c1b5551c');\n",
              "          const dataTable =\n",
              "            await google.colab.kernel.invokeFunction('convertToInteractive',\n",
              "                                                     [key], {});\n",
              "          if (!dataTable) return;\n",
              "\n",
              "          const docLinkHtml = 'Like what you see? Visit the ' +\n",
              "            '<a target=\"_blank\" href=https://colab.research.google.com/notebooks/data_table.ipynb>data table notebook</a>'\n",
              "            + ' to learn more about interactive tables.';\n",
              "          element.innerHTML = '';\n",
              "          dataTable['output_type'] = 'display_data';\n",
              "          await google.colab.output.renderOutput(dataTable, element);\n",
              "          const docLink = document.createElement('div');\n",
              "          docLink.innerHTML = docLinkHtml;\n",
              "          element.appendChild(docLink);\n",
              "        }\n",
              "      </script>\n",
              "    </div>\n",
              "  </div>\n",
              "  "
            ]
          },
          "metadata": {},
          "execution_count": 11
        }
      ],
      "source": [
        "out = data[['E/P','Closing','Cap','BEME','Y_Momentum']]\n",
        "\n",
        "#creating boolean df\n",
        "outA = out.apply(is_out)\n",
        "\n",
        "print('Outlier Boolean DF')\n",
        "print(outA.head(2))\n",
        "print('-------------')\n",
        "\n",
        "print('Total Outliers')\n",
        "print(outA.apply(sum))\n",
        "print('-------------')\n",
        "#creating boolean index\n",
        "outB = outA.any(axis = 1)\n",
        "\n",
        "print('Boolean Index')\n",
        "print(outB.head(2))\n",
        "print('-------------')\n",
        "#remove all outliers\n",
        "df = data[~outB]\n",
        "\n",
        "print(\"Before and After Shapes\")\n",
        "print(data.shape)\n",
        "print(df.shape)\n",
        "\n",
        "#reseting index\n",
        "df.reset_index(inplace = True, drop = True)\n",
        "df.head(3)"
      ]
    },
    {
      "cell_type": "code",
      "execution_count": 12,
      "id": "db00337a",
      "metadata": {
        "colab": {
          "base_uri": "https://localhost:8080/"
        },
        "id": "db00337a",
        "outputId": "e7e98ec2-ad34-4bdb-a3bc-15d39993db44"
      },
      "outputs": [
        {
          "output_type": "execute_result",
          "data": {
            "text/plain": [
              "(4730, 10)"
            ]
          },
          "metadata": {},
          "execution_count": 12
        }
      ],
      "source": [
        "df.shape"
      ]
    },
    {
      "cell_type": "code",
      "execution_count": 13,
      "id": "7a27a8fa",
      "metadata": {
        "colab": {
          "base_uri": "https://localhost:8080/"
        },
        "id": "7a27a8fa",
        "outputId": "eb8492df-6a0b-43d8-9304-192f0cb7c6b6"
      },
      "outputs": [
        {
          "output_type": "execute_result",
          "data": {
            "text/plain": [
              "(2930, 10)"
            ]
          },
          "metadata": {},
          "execution_count": 13
        }
      ],
      "source": [
        "data_f = df[(df['E/P'] >0) &(df['Closing'] >5)& (df['Cap'] > 100000000)&(df['BEME'] >0)]\n",
        "data_f.shape"
      ]
    },
    {
      "cell_type": "markdown",
      "source": [
        "# Problem 4.3 Logarithm Variable"
      ],
      "metadata": {
        "id": "B6PvXWFNDYEa"
      },
      "id": "B6PvXWFNDYEa"
    },
    {
      "cell_type": "code",
      "execution_count": 14,
      "id": "43942fd9",
      "metadata": {
        "colab": {
          "base_uri": "https://localhost:8080/",
          "height": 0
        },
        "id": "43942fd9",
        "outputId": "f676f484-c9d7-4996-a808-05dcf53de7ea"
      },
      "outputs": [
        {
          "output_type": "stream",
          "name": "stderr",
          "text": [
            "<ipython-input-14-b60d278c6945>:1: SettingWithCopyWarning: \n",
            "A value is trying to be set on a copy of a slice from a DataFrame.\n",
            "Try using .loc[row_indexer,col_indexer] = value instead\n",
            "\n",
            "See the caveats in the documentation: https://pandas.pydata.org/pandas-docs/stable/user_guide/indexing.html#returning-a-view-versus-a-copy\n",
            "  data_f['lnSize'] = np.log(df['Cap'])\n"
          ]
        },
        {
          "output_type": "execute_result",
          "data": {
            "text/plain": [
              "                            Name Ticker                       Exchange  \\\n",
              "1        1-800 Flowers.com, Inc.   FLWS                         NASDAQ   \n",
              "4         1st Source Corporation   SRCE                         NASDAQ   \n",
              "6   21st Century Insurance Group     TW  NEW YORK STOCK EXCHANGE, INC.   \n",
              "10               51job, Inc. ADR   JOBS                         NASDAQ   \n",
              "11                7-Eleven, Inc.     SE  NEW YORK STOCK EXCHANGE, INC.   \n",
              "\n",
              "         E/P   Closing           Cap      BEME  Y_Momentum  Y_Return  \\\n",
              "1   0.076190   8.40000  5.549791e+08  0.343893   -0.293015 -0.235714   \n",
              "4   0.042340  23.19091  5.287128e+08  0.617725    0.205520  0.006680   \n",
              "6   0.072794  13.60000  1.162532e+09  0.666132   -0.067387  0.202298   \n",
              "10  0.003487  51.97000  1.445199e+09  0.071201    0.715181 -0.717144   \n",
              "11  0.037996  23.95000  2.704339e+09  0.171745    0.439024  0.564509   \n",
              "\n",
              "    Industry     lnSize  \n",
              "1       43.0  20.134441  \n",
              "4       45.0  20.085956  \n",
              "6       34.0  20.873866  \n",
              "10      34.0  21.091513  \n",
              "11      31.0  21.718123  "
            ],
            "text/html": [
              "\n",
              "  <div id=\"df-95583833-4f56-4151-b4fd-b131b35dd141\">\n",
              "    <div class=\"colab-df-container\">\n",
              "      <div>\n",
              "<style scoped>\n",
              "    .dataframe tbody tr th:only-of-type {\n",
              "        vertical-align: middle;\n",
              "    }\n",
              "\n",
              "    .dataframe tbody tr th {\n",
              "        vertical-align: top;\n",
              "    }\n",
              "\n",
              "    .dataframe thead th {\n",
              "        text-align: right;\n",
              "    }\n",
              "</style>\n",
              "<table border=\"1\" class=\"dataframe\">\n",
              "  <thead>\n",
              "    <tr style=\"text-align: right;\">\n",
              "      <th></th>\n",
              "      <th>Name</th>\n",
              "      <th>Ticker</th>\n",
              "      <th>Exchange</th>\n",
              "      <th>E/P</th>\n",
              "      <th>Closing</th>\n",
              "      <th>Cap</th>\n",
              "      <th>BEME</th>\n",
              "      <th>Y_Momentum</th>\n",
              "      <th>Y_Return</th>\n",
              "      <th>Industry</th>\n",
              "      <th>lnSize</th>\n",
              "    </tr>\n",
              "  </thead>\n",
              "  <tbody>\n",
              "    <tr>\n",
              "      <th>1</th>\n",
              "      <td>1-800 Flowers.com, Inc.</td>\n",
              "      <td>FLWS</td>\n",
              "      <td>NASDAQ</td>\n",
              "      <td>0.076190</td>\n",
              "      <td>8.40000</td>\n",
              "      <td>5.549791e+08</td>\n",
              "      <td>0.343893</td>\n",
              "      <td>-0.293015</td>\n",
              "      <td>-0.235714</td>\n",
              "      <td>43.0</td>\n",
              "      <td>20.134441</td>\n",
              "    </tr>\n",
              "    <tr>\n",
              "      <th>4</th>\n",
              "      <td>1st Source Corporation</td>\n",
              "      <td>SRCE</td>\n",
              "      <td>NASDAQ</td>\n",
              "      <td>0.042340</td>\n",
              "      <td>23.19091</td>\n",
              "      <td>5.287128e+08</td>\n",
              "      <td>0.617725</td>\n",
              "      <td>0.205520</td>\n",
              "      <td>0.006680</td>\n",
              "      <td>45.0</td>\n",
              "      <td>20.085956</td>\n",
              "    </tr>\n",
              "    <tr>\n",
              "      <th>6</th>\n",
              "      <td>21st Century Insurance Group</td>\n",
              "      <td>TW</td>\n",
              "      <td>NEW YORK STOCK EXCHANGE, INC.</td>\n",
              "      <td>0.072794</td>\n",
              "      <td>13.60000</td>\n",
              "      <td>1.162532e+09</td>\n",
              "      <td>0.666132</td>\n",
              "      <td>-0.067387</td>\n",
              "      <td>0.202298</td>\n",
              "      <td>34.0</td>\n",
              "      <td>20.873866</td>\n",
              "    </tr>\n",
              "    <tr>\n",
              "      <th>10</th>\n",
              "      <td>51job, Inc. ADR</td>\n",
              "      <td>JOBS</td>\n",
              "      <td>NASDAQ</td>\n",
              "      <td>0.003487</td>\n",
              "      <td>51.97000</td>\n",
              "      <td>1.445199e+09</td>\n",
              "      <td>0.071201</td>\n",
              "      <td>0.715181</td>\n",
              "      <td>-0.717144</td>\n",
              "      <td>34.0</td>\n",
              "      <td>21.091513</td>\n",
              "    </tr>\n",
              "    <tr>\n",
              "      <th>11</th>\n",
              "      <td>7-Eleven, Inc.</td>\n",
              "      <td>SE</td>\n",
              "      <td>NEW YORK STOCK EXCHANGE, INC.</td>\n",
              "      <td>0.037996</td>\n",
              "      <td>23.95000</td>\n",
              "      <td>2.704339e+09</td>\n",
              "      <td>0.171745</td>\n",
              "      <td>0.439024</td>\n",
              "      <td>0.564509</td>\n",
              "      <td>31.0</td>\n",
              "      <td>21.718123</td>\n",
              "    </tr>\n",
              "  </tbody>\n",
              "</table>\n",
              "</div>\n",
              "      <button class=\"colab-df-convert\" onclick=\"convertToInteractive('df-95583833-4f56-4151-b4fd-b131b35dd141')\"\n",
              "              title=\"Convert this dataframe to an interactive table.\"\n",
              "              style=\"display:none;\">\n",
              "        \n",
              "  <svg xmlns=\"http://www.w3.org/2000/svg\" height=\"24px\"viewBox=\"0 0 24 24\"\n",
              "       width=\"24px\">\n",
              "    <path d=\"M0 0h24v24H0V0z\" fill=\"none\"/>\n",
              "    <path d=\"M18.56 5.44l.94 2.06.94-2.06 2.06-.94-2.06-.94-.94-2.06-.94 2.06-2.06.94zm-11 1L8.5 8.5l.94-2.06 2.06-.94-2.06-.94L8.5 2.5l-.94 2.06-2.06.94zm10 10l.94 2.06.94-2.06 2.06-.94-2.06-.94-.94-2.06-.94 2.06-2.06.94z\"/><path d=\"M17.41 7.96l-1.37-1.37c-.4-.4-.92-.59-1.43-.59-.52 0-1.04.2-1.43.59L10.3 9.45l-7.72 7.72c-.78.78-.78 2.05 0 2.83L4 21.41c.39.39.9.59 1.41.59.51 0 1.02-.2 1.41-.59l7.78-7.78 2.81-2.81c.8-.78.8-2.07 0-2.86zM5.41 20L4 18.59l7.72-7.72 1.47 1.35L5.41 20z\"/>\n",
              "  </svg>\n",
              "      </button>\n",
              "      \n",
              "  <style>\n",
              "    .colab-df-container {\n",
              "      display:flex;\n",
              "      flex-wrap:wrap;\n",
              "      gap: 12px;\n",
              "    }\n",
              "\n",
              "    .colab-df-convert {\n",
              "      background-color: #E8F0FE;\n",
              "      border: none;\n",
              "      border-radius: 50%;\n",
              "      cursor: pointer;\n",
              "      display: none;\n",
              "      fill: #1967D2;\n",
              "      height: 32px;\n",
              "      padding: 0 0 0 0;\n",
              "      width: 32px;\n",
              "    }\n",
              "\n",
              "    .colab-df-convert:hover {\n",
              "      background-color: #E2EBFA;\n",
              "      box-shadow: 0px 1px 2px rgba(60, 64, 67, 0.3), 0px 1px 3px 1px rgba(60, 64, 67, 0.15);\n",
              "      fill: #174EA6;\n",
              "    }\n",
              "\n",
              "    [theme=dark] .colab-df-convert {\n",
              "      background-color: #3B4455;\n",
              "      fill: #D2E3FC;\n",
              "    }\n",
              "\n",
              "    [theme=dark] .colab-df-convert:hover {\n",
              "      background-color: #434B5C;\n",
              "      box-shadow: 0px 1px 3px 1px rgba(0, 0, 0, 0.15);\n",
              "      filter: drop-shadow(0px 1px 2px rgba(0, 0, 0, 0.3));\n",
              "      fill: #FFFFFF;\n",
              "    }\n",
              "  </style>\n",
              "\n",
              "      <script>\n",
              "        const buttonEl =\n",
              "          document.querySelector('#df-95583833-4f56-4151-b4fd-b131b35dd141 button.colab-df-convert');\n",
              "        buttonEl.style.display =\n",
              "          google.colab.kernel.accessAllowed ? 'block' : 'none';\n",
              "\n",
              "        async function convertToInteractive(key) {\n",
              "          const element = document.querySelector('#df-95583833-4f56-4151-b4fd-b131b35dd141');\n",
              "          const dataTable =\n",
              "            await google.colab.kernel.invokeFunction('convertToInteractive',\n",
              "                                                     [key], {});\n",
              "          if (!dataTable) return;\n",
              "\n",
              "          const docLinkHtml = 'Like what you see? Visit the ' +\n",
              "            '<a target=\"_blank\" href=https://colab.research.google.com/notebooks/data_table.ipynb>data table notebook</a>'\n",
              "            + ' to learn more about interactive tables.';\n",
              "          element.innerHTML = '';\n",
              "          dataTable['output_type'] = 'display_data';\n",
              "          await google.colab.output.renderOutput(dataTable, element);\n",
              "          const docLink = document.createElement('div');\n",
              "          docLink.innerHTML = docLinkHtml;\n",
              "          element.appendChild(docLink);\n",
              "        }\n",
              "      </script>\n",
              "    </div>\n",
              "  </div>\n",
              "  "
            ]
          },
          "metadata": {},
          "execution_count": 14
        }
      ],
      "source": [
        "data_f['lnSize'] = np.log(df['Cap'])\n",
        "data_f.head()"
      ]
    },
    {
      "cell_type": "markdown",
      "source": [
        "# Problem 4.4 Scatter Plot and P-value Correlation"
      ],
      "metadata": {
        "id": "TicvJFahDf3O"
      },
      "id": "TicvJFahDf3O"
    },
    {
      "cell_type": "markdown",
      "source": [
        "## Scatter Plots"
      ],
      "metadata": {
        "id": "_30kWyVDDuES"
      },
      "id": "_30kWyVDDuES"
    },
    {
      "cell_type": "code",
      "execution_count": 15,
      "id": "de8c12cb",
      "metadata": {
        "colab": {
          "base_uri": "https://localhost:8080/",
          "height": 0
        },
        "id": "de8c12cb",
        "outputId": "04f69c3c-9be1-433d-d7dd-166b16f25f23"
      },
      "outputs": [
        {
          "output_type": "execute_result",
          "data": {
            "text/plain": [
              "        BEME  Y_Momentum     lnSize  Y_Return\n",
              "1   0.343893   -0.293015  20.134441 -0.235714\n",
              "4   0.617725    0.205520  20.085956  0.006680\n",
              "6   0.666132   -0.067387  20.873866  0.202298\n",
              "10  0.071201    0.715181  21.091513 -0.717144\n",
              "11  0.171745    0.439024  21.718123  0.564509"
            ],
            "text/html": [
              "\n",
              "  <div id=\"df-32587e22-6c8e-4022-92bf-c0f816eb431e\">\n",
              "    <div class=\"colab-df-container\">\n",
              "      <div>\n",
              "<style scoped>\n",
              "    .dataframe tbody tr th:only-of-type {\n",
              "        vertical-align: middle;\n",
              "    }\n",
              "\n",
              "    .dataframe tbody tr th {\n",
              "        vertical-align: top;\n",
              "    }\n",
              "\n",
              "    .dataframe thead th {\n",
              "        text-align: right;\n",
              "    }\n",
              "</style>\n",
              "<table border=\"1\" class=\"dataframe\">\n",
              "  <thead>\n",
              "    <tr style=\"text-align: right;\">\n",
              "      <th></th>\n",
              "      <th>BEME</th>\n",
              "      <th>Y_Momentum</th>\n",
              "      <th>lnSize</th>\n",
              "      <th>Y_Return</th>\n",
              "    </tr>\n",
              "  </thead>\n",
              "  <tbody>\n",
              "    <tr>\n",
              "      <th>1</th>\n",
              "      <td>0.343893</td>\n",
              "      <td>-0.293015</td>\n",
              "      <td>20.134441</td>\n",
              "      <td>-0.235714</td>\n",
              "    </tr>\n",
              "    <tr>\n",
              "      <th>4</th>\n",
              "      <td>0.617725</td>\n",
              "      <td>0.205520</td>\n",
              "      <td>20.085956</td>\n",
              "      <td>0.006680</td>\n",
              "    </tr>\n",
              "    <tr>\n",
              "      <th>6</th>\n",
              "      <td>0.666132</td>\n",
              "      <td>-0.067387</td>\n",
              "      <td>20.873866</td>\n",
              "      <td>0.202298</td>\n",
              "    </tr>\n",
              "    <tr>\n",
              "      <th>10</th>\n",
              "      <td>0.071201</td>\n",
              "      <td>0.715181</td>\n",
              "      <td>21.091513</td>\n",
              "      <td>-0.717144</td>\n",
              "    </tr>\n",
              "    <tr>\n",
              "      <th>11</th>\n",
              "      <td>0.171745</td>\n",
              "      <td>0.439024</td>\n",
              "      <td>21.718123</td>\n",
              "      <td>0.564509</td>\n",
              "    </tr>\n",
              "  </tbody>\n",
              "</table>\n",
              "</div>\n",
              "      <button class=\"colab-df-convert\" onclick=\"convertToInteractive('df-32587e22-6c8e-4022-92bf-c0f816eb431e')\"\n",
              "              title=\"Convert this dataframe to an interactive table.\"\n",
              "              style=\"display:none;\">\n",
              "        \n",
              "  <svg xmlns=\"http://www.w3.org/2000/svg\" height=\"24px\"viewBox=\"0 0 24 24\"\n",
              "       width=\"24px\">\n",
              "    <path d=\"M0 0h24v24H0V0z\" fill=\"none\"/>\n",
              "    <path d=\"M18.56 5.44l.94 2.06.94-2.06 2.06-.94-2.06-.94-.94-2.06-.94 2.06-2.06.94zm-11 1L8.5 8.5l.94-2.06 2.06-.94-2.06-.94L8.5 2.5l-.94 2.06-2.06.94zm10 10l.94 2.06.94-2.06 2.06-.94-2.06-.94-.94-2.06-.94 2.06-2.06.94z\"/><path d=\"M17.41 7.96l-1.37-1.37c-.4-.4-.92-.59-1.43-.59-.52 0-1.04.2-1.43.59L10.3 9.45l-7.72 7.72c-.78.78-.78 2.05 0 2.83L4 21.41c.39.39.9.59 1.41.59.51 0 1.02-.2 1.41-.59l7.78-7.78 2.81-2.81c.8-.78.8-2.07 0-2.86zM5.41 20L4 18.59l7.72-7.72 1.47 1.35L5.41 20z\"/>\n",
              "  </svg>\n",
              "      </button>\n",
              "      \n",
              "  <style>\n",
              "    .colab-df-container {\n",
              "      display:flex;\n",
              "      flex-wrap:wrap;\n",
              "      gap: 12px;\n",
              "    }\n",
              "\n",
              "    .colab-df-convert {\n",
              "      background-color: #E8F0FE;\n",
              "      border: none;\n",
              "      border-radius: 50%;\n",
              "      cursor: pointer;\n",
              "      display: none;\n",
              "      fill: #1967D2;\n",
              "      height: 32px;\n",
              "      padding: 0 0 0 0;\n",
              "      width: 32px;\n",
              "    }\n",
              "\n",
              "    .colab-df-convert:hover {\n",
              "      background-color: #E2EBFA;\n",
              "      box-shadow: 0px 1px 2px rgba(60, 64, 67, 0.3), 0px 1px 3px 1px rgba(60, 64, 67, 0.15);\n",
              "      fill: #174EA6;\n",
              "    }\n",
              "\n",
              "    [theme=dark] .colab-df-convert {\n",
              "      background-color: #3B4455;\n",
              "      fill: #D2E3FC;\n",
              "    }\n",
              "\n",
              "    [theme=dark] .colab-df-convert:hover {\n",
              "      background-color: #434B5C;\n",
              "      box-shadow: 0px 1px 3px 1px rgba(0, 0, 0, 0.15);\n",
              "      filter: drop-shadow(0px 1px 2px rgba(0, 0, 0, 0.3));\n",
              "      fill: #FFFFFF;\n",
              "    }\n",
              "  </style>\n",
              "\n",
              "      <script>\n",
              "        const buttonEl =\n",
              "          document.querySelector('#df-32587e22-6c8e-4022-92bf-c0f816eb431e button.colab-df-convert');\n",
              "        buttonEl.style.display =\n",
              "          google.colab.kernel.accessAllowed ? 'block' : 'none';\n",
              "\n",
              "        async function convertToInteractive(key) {\n",
              "          const element = document.querySelector('#df-32587e22-6c8e-4022-92bf-c0f816eb431e');\n",
              "          const dataTable =\n",
              "            await google.colab.kernel.invokeFunction('convertToInteractive',\n",
              "                                                     [key], {});\n",
              "          if (!dataTable) return;\n",
              "\n",
              "          const docLinkHtml = 'Like what you see? Visit the ' +\n",
              "            '<a target=\"_blank\" href=https://colab.research.google.com/notebooks/data_table.ipynb>data table notebook</a>'\n",
              "            + ' to learn more about interactive tables.';\n",
              "          element.innerHTML = '';\n",
              "          dataTable['output_type'] = 'display_data';\n",
              "          await google.colab.output.renderOutput(dataTable, element);\n",
              "          const docLink = document.createElement('div');\n",
              "          docLink.innerHTML = docLinkHtml;\n",
              "          element.appendChild(docLink);\n",
              "        }\n",
              "      </script>\n",
              "    </div>\n",
              "  </div>\n",
              "  "
            ]
          },
          "metadata": {},
          "execution_count": 15
        }
      ],
      "source": [
        "data_var = data_f[['BEME','Y_Momentum', 'lnSize', \"Y_Return\" ]]\n",
        "data_var.head()"
      ]
    },
    {
      "cell_type": "code",
      "execution_count": 16,
      "id": "28bf240c",
      "metadata": {
        "colab": {
          "base_uri": "https://localhost:8080/",
          "height": 0
        },
        "id": "28bf240c",
        "outputId": "abe50be4-b51f-4001-a3c1-81af13d6a704"
      },
      "outputs": [
        {
          "output_type": "display_data",
          "data": {
            "text/plain": [
              "<Figure size 432x288 with 1 Axes>"
            ],
            "image/png": "[encoded data removed]"
          },
          "metadata": {
            "needs_background": "light"
          }
        }
      ],
      "source": [
        "sns.regplot(x = \"BEME\",\n",
        "            y = \"Y_Return\",\n",
        "            data = data_var)\n",
        "# show the plot\n",
        "plt.show()"
      ]
    },
    {
      "cell_type": "code",
      "execution_count": 17,
      "id": "95a770de",
      "metadata": {
        "colab": {
          "base_uri": "https://localhost:8080/",
          "height": 0
        },
        "id": "95a770de",
        "outputId": "a0668362-3057-4dfc-e5e3-4b2fe747e827"
      },
      "outputs": [
        {
          "output_type": "display_data",
          "data": {
            "text/plain": [
              "<Figure size 432x288 with 1 Axes>"
            ],
            "image/png": "[encoded data removed]"
          },
          "metadata": {
            "needs_background": "light"
          }
        }
      ],
      "source": [
        "sns.regplot(x = \"Y_Momentum\",\n",
        "            y = \"Y_Return\",\n",
        "            data = data_var)\n",
        "# show the plot\n",
        "plt.show()"
      ]
    },
    {
      "cell_type": "code",
      "execution_count": 18,
      "id": "2c97d4a6",
      "metadata": {
        "colab": {
          "base_uri": "https://localhost:8080/",
          "height": 0
        },
        "id": "2c97d4a6",
        "outputId": "433b37ec-ac5a-4550-bafb-745775d9c072"
      },
      "outputs": [
        {
          "output_type": "display_data",
          "data": {
            "text/plain": [
              "<Figure size 432x288 with 1 Axes>"
            ],
            "image/png": "[encoded data removed]"
          },
          "metadata": {
            "needs_background": "light"
          }
        }
      ],
      "source": [
        "sns.regplot(x = \"lnSize\",\n",
        "            y = \"Y_Return\",\n",
        "            data = data_var)\n",
        "# show the plot\n",
        "plt.show()"
      ]
    },
    {
      "cell_type": "code",
      "execution_count": 18,
      "id": "96c85f43",
      "metadata": {
        "id": "96c85f43"
      },
      "outputs": [],
      "source": []
    },
    {
      "cell_type": "code",
      "execution_count": 19,
      "id": "61c24c9c",
      "metadata": {
        "colab": {
          "base_uri": "https://localhost:8080/",
          "height": 0
        },
        "id": "61c24c9c",
        "outputId": "72f82bef-0110-4d79-eef0-c6c79af2e470"
      },
      "outputs": [
        {
          "output_type": "execute_result",
          "data": {
            "text/plain": [
              "<seaborn.axisgrid.PairGrid at 0x7f45b6728160>"
            ]
          },
          "metadata": {},
          "execution_count": 19
        },
        {
          "output_type": "display_data",
          "data": {
            "text/plain": [
              "<Figure size 720x720 with 20 Axes>"
            ],
            "image/png": "[encoded data removed]"
          },
          "metadata": {
            "needs_background": "light"
          }
        }
      ],
      "source": [
        "sns.pairplot(data_var)"
      ]
    },
    {
      "cell_type": "markdown",
      "source": [
        "## Correlations"
      ],
      "metadata": {
        "id": "TmPthmoMDyis"
      },
      "id": "TmPthmoMDyis"
    },
    {
      "cell_type": "code",
      "execution_count": 20,
      "id": "30b188fa",
      "metadata": {
        "colab": {
          "base_uri": "https://localhost:8080/",
          "height": 0
        },
        "id": "30b188fa",
        "outputId": "69fe7753-06d6-456d-f7a5-e9b53b78632f"
      },
      "outputs": [
        {
          "output_type": "execute_result",
          "data": {
            "text/plain": [
              "                BEME  Y_Momentum    lnSize  Y_Return\n",
              "BEME        1.000000   -0.158737 -0.138017  0.034492\n",
              "Y_Momentum -0.158737    1.000000  0.041033  0.112783\n",
              "lnSize     -0.138017    0.041033  1.000000  0.073262\n",
              "Y_Return    0.034492    0.112783  0.073262  1.000000"
            ],
            "text/html": [
              "\n",
              "  <div id=\"df-57169228-0b48-4bf1-9860-bf5616c559a9\">\n",
              "    <div class=\"colab-df-container\">\n",
              "      <div>\n",
              "<style scoped>\n",
              "    .dataframe tbody tr th:only-of-type {\n",
              "        vertical-align: middle;\n",
              "    }\n",
              "\n",
              "    .dataframe tbody tr th {\n",
              "        vertical-align: top;\n",
              "    }\n",
              "\n",
              "    .dataframe thead th {\n",
              "        text-align: right;\n",
              "    }\n",
              "</style>\n",
              "<table border=\"1\" class=\"dataframe\">\n",
              "  <thead>\n",
              "    <tr style=\"text-align: right;\">\n",
              "      <th></th>\n",
              "      <th>BEME</th>\n",
              "      <th>Y_Momentum</th>\n",
              "      <th>lnSize</th>\n",
              "      <th>Y_Return</th>\n",
              "    </tr>\n",
              "  </thead>\n",
              "  <tbody>\n",
              "    <tr>\n",
              "      <th>BEME</th>\n",
              "      <td>1.000000</td>\n",
              "      <td>-0.158737</td>\n",
              "      <td>-0.138017</td>\n",
              "      <td>0.034492</td>\n",
              "    </tr>\n",
              "    <tr>\n",
              "      <th>Y_Momentum</th>\n",
              "      <td>-0.158737</td>\n",
              "      <td>1.000000</td>\n",
              "      <td>0.041033</td>\n",
              "      <td>0.112783</td>\n",
              "    </tr>\n",
              "    <tr>\n",
              "      <th>lnSize</th>\n",
              "      <td>-0.138017</td>\n",
              "      <td>0.041033</td>\n",
              "      <td>1.000000</td>\n",
              "      <td>0.073262</td>\n",
              "    </tr>\n",
              "    <tr>\n",
              "      <th>Y_Return</th>\n",
              "      <td>0.034492</td>\n",
              "      <td>0.112783</td>\n",
              "      <td>0.073262</td>\n",
              "      <td>1.000000</td>\n",
              "    </tr>\n",
              "  </tbody>\n",
              "</table>\n",
              "</div>\n",
              "      <button class=\"colab-df-convert\" onclick=\"convertToInteractive('df-57169228-0b48-4bf1-9860-bf5616c559a9')\"\n",
              "              title=\"Convert this dataframe to an interactive table.\"\n",
              "              style=\"display:none;\">\n",
              "        \n",
              "  <svg xmlns=\"http://www.w3.org/2000/svg\" height=\"24px\"viewBox=\"0 0 24 24\"\n",
              "       width=\"24px\">\n",
              "    <path d=\"M0 0h24v24H0V0z\" fill=\"none\"/>\n",
              "    <path d=\"M18.56 5.44l.94 2.06.94-2.06 2.06-.94-2.06-.94-.94-2.06-.94 2.06-2.06.94zm-11 1L8.5 8.5l.94-2.06 2.06-.94-2.06-.94L8.5 2.5l-.94 2.06-2.06.94zm10 10l.94 2.06.94-2.06 2.06-.94-2.06-.94-.94-2.06-.94 2.06-2.06.94z\"/><path d=\"M17.41 7.96l-1.37-1.37c-.4-.4-.92-.59-1.43-.59-.52 0-1.04.2-1.43.59L10.3 9.45l-7.72 7.72c-.78.78-.78 2.05 0 2.83L4 21.41c.39.39.9.59 1.41.59.51 0 1.02-.2 1.41-.59l7.78-7.78 2.81-2.81c.8-.78.8-2.07 0-2.86zM5.41 20L4 18.59l7.72-7.72 1.47 1.35L5.41 20z\"/>\n",
              "  </svg>\n",
              "      </button>\n",
              "      \n",
              "  <style>\n",
              "    .colab-df-container {\n",
              "      display:flex;\n",
              "      flex-wrap:wrap;\n",
              "      gap: 12px;\n",
              "    }\n",
              "\n",
              "    .colab-df-convert {\n",
              "      background-color: #E8F0FE;\n",
              "      border: none;\n",
              "      border-radius: 50%;\n",
              "      cursor: pointer;\n",
              "      display: none;\n",
              "      fill: #1967D2;\n",
              "      height: 32px;\n",
              "      padding: 0 0 0 0;\n",
              "      width: 32px;\n",
              "    }\n",
              "\n",
              "    .colab-df-convert:hover {\n",
              "      background-color: #E2EBFA;\n",
              "      box-shadow: 0px 1px 2px rgba(60, 64, 67, 0.3), 0px 1px 3px 1px rgba(60, 64, 67, 0.15);\n",
              "      fill: #174EA6;\n",
              "    }\n",
              "\n",
              "    [theme=dark] .colab-df-convert {\n",
              "      background-color: #3B4455;\n",
              "      fill: #D2E3FC;\n",
              "    }\n",
              "\n",
              "    [theme=dark] .colab-df-convert:hover {\n",
              "      background-color: #434B5C;\n",
              "      box-shadow: 0px 1px 3px 1px rgba(0, 0, 0, 0.15);\n",
              "      filter: drop-shadow(0px 1px 2px rgba(0, 0, 0, 0.3));\n",
              "      fill: #FFFFFF;\n",
              "    }\n",
              "  </style>\n",
              "\n",
              "      <script>\n",
              "        const buttonEl =\n",
              "          document.querySelector('#df-57169228-0b48-4bf1-9860-bf5616c559a9 button.colab-df-convert');\n",
              "        buttonEl.style.display =\n",
              "          google.colab.kernel.accessAllowed ? 'block' : 'none';\n",
              "\n",
              "        async function convertToInteractive(key) {\n",
              "          const element = document.querySelector('#df-57169228-0b48-4bf1-9860-bf5616c559a9');\n",
              "          const dataTable =\n",
              "            await google.colab.kernel.invokeFunction('convertToInteractive',\n",
              "                                                     [key], {});\n",
              "          if (!dataTable) return;\n",
              "\n",
              "          const docLinkHtml = 'Like what you see? Visit the ' +\n",
              "            '<a target=\"_blank\" href=https://colab.research.google.com/notebooks/data_table.ipynb>data table notebook</a>'\n",
              "            + ' to learn more about interactive tables.';\n",
              "          element.innerHTML = '';\n",
              "          dataTable['output_type'] = 'display_data';\n",
              "          await google.colab.output.renderOutput(dataTable, element);\n",
              "          const docLink = document.createElement('div');\n",
              "          docLink.innerHTML = docLinkHtml;\n",
              "          element.appendChild(docLink);\n",
              "        }\n",
              "      </script>\n",
              "    </div>\n",
              "  </div>\n",
              "  "
            ]
          },
          "metadata": {},
          "execution_count": 20
        }
      ],
      "source": [
        "corr = data_var.corr()\n",
        "corr"
      ]
    },
    {
      "cell_type": "code",
      "execution_count": 21,
      "id": "4944cbea",
      "metadata": {
        "colab": {
          "base_uri": "https://localhost:8080/",
          "height": 0
        },
        "id": "4944cbea",
        "outputId": "2e177349-9c53-4ea8-ab28-12d351ea1a9f"
      },
      "outputs": [
        {
          "output_type": "execute_result",
          "data": {
            "text/plain": [
              "<matplotlib.axes._subplots.AxesSubplot at 0x7f45b5209a60>"
            ]
          },
          "metadata": {},
          "execution_count": 21
        },
        {
          "output_type": "display_data",
          "data": {
            "text/plain": [
              "<Figure size 432x288 with 2 Axes>"
            ],
            "image/png": "[encoded data removed]"
          },
          "metadata": {
            "needs_background": "light"
          }
        }
      ],
      "source": [
        "sns.heatmap(corr)"
      ]
    },
    {
      "cell_type": "code",
      "execution_count": 22,
      "id": "cd5a43ac",
      "metadata": {
        "id": "cd5a43ac"
      },
      "outputs": [],
      "source": [
        "from scipy.stats import kendalltau, pearsonr, spearmanr\n",
        "\n",
        "def kendall_pval(x,y):\n",
        "    return kendalltau(x,y)[1]\n",
        "    \n",
        "def pearsonr_pval(x,y):\n",
        "    return pearsonr(x,y)[1]\n",
        "\n",
        "def spearmanr_pval(x,y):\n",
        "    return spearmanr(x,y)[1]"
      ]
    },
    {
      "cell_type": "code",
      "execution_count": 23,
      "id": "ae78ef9b",
      "metadata": {
        "colab": {
          "base_uri": "https://localhost:8080/",
          "height": 0
        },
        "id": "ae78ef9b",
        "outputId": "bb084d35-c707-4005-967d-4056088033ec"
      },
      "outputs": [
        {
          "output_type": "execute_result",
          "data": {
            "text/plain": [
              "               BEME  Y_Momentum   lnSize  Y_Return\n",
              "BEME        1.00000     0.00000  0.00000   0.06193\n",
              "Y_Momentum  0.00000     1.00000  0.02634   0.00000\n",
              "lnSize      0.00000     0.02634  1.00000   0.00007\n",
              "Y_Return    0.06193     0.00000  0.00007   1.00000"
            ],
            "text/html": [
              "\n",
              "  <div id=\"df-28163345-4b3b-4943-b78a-f04853d504a2\">\n",
              "    <div class=\"colab-df-container\">\n",
              "      <div>\n",
              "<style scoped>\n",
              "    .dataframe tbody tr th:only-of-type {\n",
              "        vertical-align: middle;\n",
              "    }\n",
              "\n",
              "    .dataframe tbody tr th {\n",
              "        vertical-align: top;\n",
              "    }\n",
              "\n",
              "    .dataframe thead th {\n",
              "        text-align: right;\n",
              "    }\n",
              "</style>\n",
              "<table border=\"1\" class=\"dataframe\">\n",
              "  <thead>\n",
              "    <tr style=\"text-align: right;\">\n",
              "      <th></th>\n",
              "      <th>BEME</th>\n",
              "      <th>Y_Momentum</th>\n",
              "      <th>lnSize</th>\n",
              "      <th>Y_Return</th>\n",
              "    </tr>\n",
              "  </thead>\n",
              "  <tbody>\n",
              "    <tr>\n",
              "      <th>BEME</th>\n",
              "      <td>1.00000</td>\n",
              "      <td>0.00000</td>\n",
              "      <td>0.00000</td>\n",
              "      <td>0.06193</td>\n",
              "    </tr>\n",
              "    <tr>\n",
              "      <th>Y_Momentum</th>\n",
              "      <td>0.00000</td>\n",
              "      <td>1.00000</td>\n",
              "      <td>0.02634</td>\n",
              "      <td>0.00000</td>\n",
              "    </tr>\n",
              "    <tr>\n",
              "      <th>lnSize</th>\n",
              "      <td>0.00000</td>\n",
              "      <td>0.02634</td>\n",
              "      <td>1.00000</td>\n",
              "      <td>0.00007</td>\n",
              "    </tr>\n",
              "    <tr>\n",
              "      <th>Y_Return</th>\n",
              "      <td>0.06193</td>\n",
              "      <td>0.00000</td>\n",
              "      <td>0.00007</td>\n",
              "      <td>1.00000</td>\n",
              "    </tr>\n",
              "  </tbody>\n",
              "</table>\n",
              "</div>\n",
              "      <button class=\"colab-df-convert\" onclick=\"convertToInteractive('df-28163345-4b3b-4943-b78a-f04853d504a2')\"\n",
              "              title=\"Convert this dataframe to an interactive table.\"\n",
              "              style=\"display:none;\">\n",
              "        \n",
              "  <svg xmlns=\"http://www.w3.org/2000/svg\" height=\"24px\"viewBox=\"0 0 24 24\"\n",
              "       width=\"24px\">\n",
              "    <path d=\"M0 0h24v24H0V0z\" fill=\"none\"/>\n",
              "    <path d=\"M18.56 5.44l.94 2.06.94-2.06 2.06-.94-2.06-.94-.94-2.06-.94 2.06-2.06.94zm-11 1L8.5 8.5l.94-2.06 2.06-.94-2.06-.94L8.5 2.5l-.94 2.06-2.06.94zm10 10l.94 2.06.94-2.06 2.06-.94-2.06-.94-.94-2.06-.94 2.06-2.06.94z\"/><path d=\"M17.41 7.96l-1.37-1.37c-.4-.4-.92-.59-1.43-.59-.52 0-1.04.2-1.43.59L10.3 9.45l-7.72 7.72c-.78.78-.78 2.05 0 2.83L4 21.41c.39.39.9.59 1.41.59.51 0 1.02-.2 1.41-.59l7.78-7.78 2.81-2.81c.8-.78.8-2.07 0-2.86zM5.41 20L4 18.59l7.72-7.72 1.47 1.35L5.41 20z\"/>\n",
              "  </svg>\n",
              "      </button>\n",
              "      \n",
              "  <style>\n",
              "    .colab-df-container {\n",
              "      display:flex;\n",
              "      flex-wrap:wrap;\n",
              "      gap: 12px;\n",
              "    }\n",
              "\n",
              "    .colab-df-convert {\n",
              "      background-color: #E8F0FE;\n",
              "      border: none;\n",
              "      border-radius: 50%;\n",
              "      cursor: pointer;\n",
              "      display: none;\n",
              "      fill: #1967D2;\n",
              "      height: 32px;\n",
              "      padding: 0 0 0 0;\n",
              "      width: 32px;\n",
              "    }\n",
              "\n",
              "    .colab-df-convert:hover {\n",
              "      background-color: #E2EBFA;\n",
              "      box-shadow: 0px 1px 2px rgba(60, 64, 67, 0.3), 0px 1px 3px 1px rgba(60, 64, 67, 0.15);\n",
              "      fill: #174EA6;\n",
              "    }\n",
              "\n",
              "    [theme=dark] .colab-df-convert {\n",
              "      background-color: #3B4455;\n",
              "      fill: #D2E3FC;\n",
              "    }\n",
              "\n",
              "    [theme=dark] .colab-df-convert:hover {\n",
              "      background-color: #434B5C;\n",
              "      box-shadow: 0px 1px 3px 1px rgba(0, 0, 0, 0.15);\n",
              "      filter: drop-shadow(0px 1px 2px rgba(0, 0, 0, 0.3));\n",
              "      fill: #FFFFFF;\n",
              "    }\n",
              "  </style>\n",
              "\n",
              "      <script>\n",
              "        const buttonEl =\n",
              "          document.querySelector('#df-28163345-4b3b-4943-b78a-f04853d504a2 button.colab-df-convert');\n",
              "        buttonEl.style.display =\n",
              "          google.colab.kernel.accessAllowed ? 'block' : 'none';\n",
              "\n",
              "        async function convertToInteractive(key) {\n",
              "          const element = document.querySelector('#df-28163345-4b3b-4943-b78a-f04853d504a2');\n",
              "          const dataTable =\n",
              "            await google.colab.kernel.invokeFunction('convertToInteractive',\n",
              "                                                     [key], {});\n",
              "          if (!dataTable) return;\n",
              "\n",
              "          const docLinkHtml = 'Like what you see? Visit the ' +\n",
              "            '<a target=\"_blank\" href=https://colab.research.google.com/notebooks/data_table.ipynb>data table notebook</a>'\n",
              "            + ' to learn more about interactive tables.';\n",
              "          element.innerHTML = '';\n",
              "          dataTable['output_type'] = 'display_data';\n",
              "          await google.colab.output.renderOutput(dataTable, element);\n",
              "          const docLink = document.createElement('div');\n",
              "          docLink.innerHTML = docLinkHtml;\n",
              "          element.appendChild(docLink);\n",
              "        }\n",
              "      </script>\n",
              "    </div>\n",
              "  </div>\n",
              "  "
            ]
          },
          "metadata": {},
          "execution_count": 23
        }
      ],
      "source": [
        "corr_pval = data_var.corr(method=pearsonr_pval)\n",
        "round(corr_pval,5)"
      ]
    },
    {
      "cell_type": "code",
      "execution_count": 23,
      "id": "eedf56e1",
      "metadata": {
        "id": "eedf56e1"
      },
      "outputs": [],
      "source": []
    },
    {
      "cell_type": "markdown",
      "source": [
        "# Problem 4.5 Within Industry Z-score"
      ],
      "metadata": {
        "id": "YT5e0vb3D9OW"
      },
      "id": "YT5e0vb3D9OW"
    },
    {
      "cell_type": "markdown",
      "source": [
        "## Z-score within Industry"
      ],
      "metadata": {
        "id": "u7_X3IQBER_O"
      },
      "id": "u7_X3IQBER_O"
    },
    {
      "cell_type": "markdown",
      "source": [],
      "metadata": {
        "id": "f-0dZeD5D5Nb"
      },
      "id": "f-0dZeD5D5Nb"
    },
    {
      "cell_type": "code",
      "execution_count": 24,
      "id": "f107bb25",
      "metadata": {
        "colab": {
          "base_uri": "https://localhost:8080/",
          "height": 206
        },
        "id": "f107bb25",
        "outputId": "98ebc7b8-c11f-435a-b076-b14496e56bc1"
      },
      "outputs": [
        {
          "output_type": "execute_result",
          "data": {
            "text/plain": [
              "        BEME  Y_Momentum     lnSize\n",
              "1   0.343893   -0.293015  20.134441\n",
              "4   0.617725    0.205520  20.085956\n",
              "6   0.666132   -0.067387  20.873866\n",
              "10  0.071201    0.715181  21.091513\n",
              "11  0.171745    0.439024  21.718123"
            ],
            "text/html": [
              "\n",
              "  <div id=\"df-0edc9c9b-0c7e-463e-855d-4beb608131c8\">\n",
              "    <div class=\"colab-df-container\">\n",
              "      <div>\n",
              "<style scoped>\n",
              "    .dataframe tbody tr th:only-of-type {\n",
              "        vertical-align: middle;\n",
              "    }\n",
              "\n",
              "    .dataframe tbody tr th {\n",
              "        vertical-align: top;\n",
              "    }\n",
              "\n",
              "    .dataframe thead th {\n",
              "        text-align: right;\n",
              "    }\n",
              "</style>\n",
              "<table border=\"1\" class=\"dataframe\">\n",
              "  <thead>\n",
              "    <tr style=\"text-align: right;\">\n",
              "      <th></th>\n",
              "      <th>BEME</th>\n",
              "      <th>Y_Momentum</th>\n",
              "      <th>lnSize</th>\n",
              "    </tr>\n",
              "  </thead>\n",
              "  <tbody>\n",
              "    <tr>\n",
              "      <th>1</th>\n",
              "      <td>0.343893</td>\n",
              "      <td>-0.293015</td>\n",
              "      <td>20.134441</td>\n",
              "    </tr>\n",
              "    <tr>\n",
              "      <th>4</th>\n",
              "      <td>0.617725</td>\n",
              "      <td>0.205520</td>\n",
              "      <td>20.085956</td>\n",
              "    </tr>\n",
              "    <tr>\n",
              "      <th>6</th>\n",
              "      <td>0.666132</td>\n",
              "      <td>-0.067387</td>\n",
              "      <td>20.873866</td>\n",
              "    </tr>\n",
              "    <tr>\n",
              "      <th>10</th>\n",
              "      <td>0.071201</td>\n",
              "      <td>0.715181</td>\n",
              "      <td>21.091513</td>\n",
              "    </tr>\n",
              "    <tr>\n",
              "      <th>11</th>\n",
              "      <td>0.171745</td>\n",
              "      <td>0.439024</td>\n",
              "      <td>21.718123</td>\n",
              "    </tr>\n",
              "  </tbody>\n",
              "</table>\n",
              "</div>\n",
              "      <button class=\"colab-df-convert\" onclick=\"convertToInteractive('df-0edc9c9b-0c7e-463e-855d-4beb608131c8')\"\n",
              "              title=\"Convert this dataframe to an interactive table.\"\n",
              "              style=\"display:none;\">\n",
              "        \n",
              "  <svg xmlns=\"http://www.w3.org/2000/svg\" height=\"24px\"viewBox=\"0 0 24 24\"\n",
              "       width=\"24px\">\n",
              "    <path d=\"M0 0h24v24H0V0z\" fill=\"none\"/>\n",
              "    <path d=\"M18.56 5.44l.94 2.06.94-2.06 2.06-.94-2.06-.94-.94-2.06-.94 2.06-2.06.94zm-11 1L8.5 8.5l.94-2.06 2.06-.94-2.06-.94L8.5 2.5l-.94 2.06-2.06.94zm10 10l.94 2.06.94-2.06 2.06-.94-2.06-.94-.94-2.06-.94 2.06-2.06.94z\"/><path d=\"M17.41 7.96l-1.37-1.37c-.4-.4-.92-.59-1.43-.59-.52 0-1.04.2-1.43.59L10.3 9.45l-7.72 7.72c-.78.78-.78 2.05 0 2.83L4 21.41c.39.39.9.59 1.41.59.51 0 1.02-.2 1.41-.59l7.78-7.78 2.81-2.81c.8-.78.8-2.07 0-2.86zM5.41 20L4 18.59l7.72-7.72 1.47 1.35L5.41 20z\"/>\n",
              "  </svg>\n",
              "      </button>\n",
              "      \n",
              "  <style>\n",
              "    .colab-df-container {\n",
              "      display:flex;\n",
              "      flex-wrap:wrap;\n",
              "      gap: 12px;\n",
              "    }\n",
              "\n",
              "    .colab-df-convert {\n",
              "      background-color: #E8F0FE;\n",
              "      border: none;\n",
              "      border-radius: 50%;\n",
              "      cursor: pointer;\n",
              "      display: none;\n",
              "      fill: #1967D2;\n",
              "      height: 32px;\n",
              "      padding: 0 0 0 0;\n",
              "      width: 32px;\n",
              "    }\n",
              "\n",
              "    .colab-df-convert:hover {\n",
              "      background-color: #E2EBFA;\n",
              "      box-shadow: 0px 1px 2px rgba(60, 64, 67, 0.3), 0px 1px 3px 1px rgba(60, 64, 67, 0.15);\n",
              "      fill: #174EA6;\n",
              "    }\n",
              "\n",
              "    [theme=dark] .colab-df-convert {\n",
              "      background-color: #3B4455;\n",
              "      fill: #D2E3FC;\n",
              "    }\n",
              "\n",
              "    [theme=dark] .colab-df-convert:hover {\n",
              "      background-color: #434B5C;\n",
              "      box-shadow: 0px 1px 3px 1px rgba(0, 0, 0, 0.15);\n",
              "      filter: drop-shadow(0px 1px 2px rgba(0, 0, 0, 0.3));\n",
              "      fill: #FFFFFF;\n",
              "    }\n",
              "  </style>\n",
              "\n",
              "      <script>\n",
              "        const buttonEl =\n",
              "          document.querySelector('#df-0edc9c9b-0c7e-463e-855d-4beb608131c8 button.colab-df-convert');\n",
              "        buttonEl.style.display =\n",
              "          google.colab.kernel.accessAllowed ? 'block' : 'none';\n",
              "\n",
              "        async function convertToInteractive(key) {\n",
              "          const element = document.querySelector('#df-0edc9c9b-0c7e-463e-855d-4beb608131c8');\n",
              "          const dataTable =\n",
              "            await google.colab.kernel.invokeFunction('convertToInteractive',\n",
              "                                                     [key], {});\n",
              "          if (!dataTable) return;\n",
              "\n",
              "          const docLinkHtml = 'Like what you see? Visit the ' +\n",
              "            '<a target=\"_blank\" href=https://colab.research.google.com/notebooks/data_table.ipynb>data table notebook</a>'\n",
              "            + ' to learn more about interactive tables.';\n",
              "          element.innerHTML = '';\n",
              "          dataTable['output_type'] = 'display_data';\n",
              "          await google.colab.output.renderOutput(dataTable, element);\n",
              "          const docLink = document.createElement('div');\n",
              "          docLink.innerHTML = docLinkHtml;\n",
              "          element.appendChild(docLink);\n",
              "        }\n",
              "      </script>\n",
              "    </div>\n",
              "  </div>\n",
              "  "
            ]
          },
          "metadata": {},
          "execution_count": 24
        }
      ],
      "source": [
        "data_exp = data_var.drop(columns = ['Y_Return'])\n",
        "data_exp.head()"
      ]
    },
    {
      "cell_type": "code",
      "execution_count": 25,
      "id": "4c24c7e5",
      "metadata": {
        "id": "4c24c7e5"
      },
      "outputs": [],
      "source": [
        "from scipy.stats import zscore #scipy.stats has a zscore function\n",
        "import scipy.stats as stats"
      ]
    },
    {
      "cell_type": "code",
      "source": [
        "df_z = data_f[['BEME','Y_Momentum','lnSize', 'Industry']]\n",
        "df_z.head()"
      ],
      "metadata": {
        "colab": {
          "base_uri": "https://localhost:8080/",
          "height": 206
        },
        "id": "zcRiMPxPuTMm",
        "outputId": "5abe90c1-ed22-404d-aadb-632de8f2f7be"
      },
      "id": "zcRiMPxPuTMm",
      "execution_count": 26,
      "outputs": [
        {
          "output_type": "execute_result",
          "data": {
            "text/plain": [
              "        BEME  Y_Momentum     lnSize  Industry\n",
              "1   0.343893   -0.293015  20.134441      43.0\n",
              "4   0.617725    0.205520  20.085956      45.0\n",
              "6   0.666132   -0.067387  20.873866      34.0\n",
              "10  0.071201    0.715181  21.091513      34.0\n",
              "11  0.171745    0.439024  21.718123      31.0"
            ],
            "text/html": [
              "\n",
              "  <div id=\"df-36205510-b600-48f4-ab02-98cb2c53c487\">\n",
              "    <div class=\"colab-df-container\">\n",
              "      <div>\n",
              "<style scoped>\n",
              "    .dataframe tbody tr th:only-of-type {\n",
              "        vertical-align: middle;\n",
              "    }\n",
              "\n",
              "    .dataframe tbody tr th {\n",
              "        vertical-align: top;\n",
              "    }\n",
              "\n",
              "    .dataframe thead th {\n",
              "        text-align: right;\n",
              "    }\n",
              "</style>\n",
              "<table border=\"1\" class=\"dataframe\">\n",
              "  <thead>\n",
              "    <tr style=\"text-align: right;\">\n",
              "      <th></th>\n",
              "      <th>BEME</th>\n",
              "      <th>Y_Momentum</th>\n",
              "      <th>lnSize</th>\n",
              "      <th>Industry</th>\n",
              "    </tr>\n",
              "  </thead>\n",
              "  <tbody>\n",
              "    <tr>\n",
              "      <th>1</th>\n",
              "      <td>0.343893</td>\n",
              "      <td>-0.293015</td>\n",
              "      <td>20.134441</td>\n",
              "      <td>43.0</td>\n",
              "    </tr>\n",
              "    <tr>\n",
              "      <th>4</th>\n",
              "      <td>0.617725</td>\n",
              "      <td>0.205520</td>\n",
              "      <td>20.085956</td>\n",
              "      <td>45.0</td>\n",
              "    </tr>\n",
              "    <tr>\n",
              "      <th>6</th>\n",
              "      <td>0.666132</td>\n",
              "      <td>-0.067387</td>\n",
              "      <td>20.873866</td>\n",
              "      <td>34.0</td>\n",
              "    </tr>\n",
              "    <tr>\n",
              "      <th>10</th>\n",
              "      <td>0.071201</td>\n",
              "      <td>0.715181</td>\n",
              "      <td>21.091513</td>\n",
              "      <td>34.0</td>\n",
              "    </tr>\n",
              "    <tr>\n",
              "      <th>11</th>\n",
              "      <td>0.171745</td>\n",
              "      <td>0.439024</td>\n",
              "      <td>21.718123</td>\n",
              "      <td>31.0</td>\n",
              "    </tr>\n",
              "  </tbody>\n",
              "</table>\n",
              "</div>\n",
              "      <button class=\"colab-df-convert\" onclick=\"convertToInteractive('df-36205510-b600-48f4-ab02-98cb2c53c487')\"\n",
              "              title=\"Convert this dataframe to an interactive table.\"\n",
              "              style=\"display:none;\">\n",
              "        \n",
              "  <svg xmlns=\"http://www.w3.org/2000/svg\" height=\"24px\"viewBox=\"0 0 24 24\"\n",
              "       width=\"24px\">\n",
              "    <path d=\"M0 0h24v24H0V0z\" fill=\"none\"/>\n",
              "    <path d=\"M18.56 5.44l.94 2.06.94-2.06 2.06-.94-2.06-.94-.94-2.06-.94 2.06-2.06.94zm-11 1L8.5 8.5l.94-2.06 2.06-.94-2.06-.94L8.5 2.5l-.94 2.06-2.06.94zm10 10l.94 2.06.94-2.06 2.06-.94-2.06-.94-.94-2.06-.94 2.06-2.06.94z\"/><path d=\"M17.41 7.96l-1.37-1.37c-.4-.4-.92-.59-1.43-.59-.52 0-1.04.2-1.43.59L10.3 9.45l-7.72 7.72c-.78.78-.78 2.05 0 2.83L4 21.41c.39.39.9.59 1.41.59.51 0 1.02-.2 1.41-.59l7.78-7.78 2.81-2.81c.8-.78.8-2.07 0-2.86zM5.41 20L4 18.59l7.72-7.72 1.47 1.35L5.41 20z\"/>\n",
              "  </svg>\n",
              "      </button>\n",
              "      \n",
              "  <style>\n",
              "    .colab-df-container {\n",
              "      display:flex;\n",
              "      flex-wrap:wrap;\n",
              "      gap: 12px;\n",
              "    }\n",
              "\n",
              "    .colab-df-convert {\n",
              "      background-color: #E8F0FE;\n",
              "      border: none;\n",
              "      border-radius: 50%;\n",
              "      cursor: pointer;\n",
              "      display: none;\n",
              "      fill: #1967D2;\n",
              "      height: 32px;\n",
              "      padding: 0 0 0 0;\n",
              "      width: 32px;\n",
              "    }\n",
              "\n",
              "    .colab-df-convert:hover {\n",
              "      background-color: #E2EBFA;\n",
              "      box-shadow: 0px 1px 2px rgba(60, 64, 67, 0.3), 0px 1px 3px 1px rgba(60, 64, 67, 0.15);\n",
              "      fill: #174EA6;\n",
              "    }\n",
              "\n",
              "    [theme=dark] .colab-df-convert {\n",
              "      background-color: #3B4455;\n",
              "      fill: #D2E3FC;\n",
              "    }\n",
              "\n",
              "    [theme=dark] .colab-df-convert:hover {\n",
              "      background-color: #434B5C;\n",
              "      box-shadow: 0px 1px 3px 1px rgba(0, 0, 0, 0.15);\n",
              "      filter: drop-shadow(0px 1px 2px rgba(0, 0, 0, 0.3));\n",
              "      fill: #FFFFFF;\n",
              "    }\n",
              "  </style>\n",
              "\n",
              "      <script>\n",
              "        const buttonEl =\n",
              "          document.querySelector('#df-36205510-b600-48f4-ab02-98cb2c53c487 button.colab-df-convert');\n",
              "        buttonEl.style.display =\n",
              "          google.colab.kernel.accessAllowed ? 'block' : 'none';\n",
              "\n",
              "        async function convertToInteractive(key) {\n",
              "          const element = document.querySelector('#df-36205510-b600-48f4-ab02-98cb2c53c487');\n",
              "          const dataTable =\n",
              "            await google.colab.kernel.invokeFunction('convertToInteractive',\n",
              "                                                     [key], {});\n",
              "          if (!dataTable) return;\n",
              "\n",
              "          const docLinkHtml = 'Like what you see? Visit the ' +\n",
              "            '<a target=\"_blank\" href=https://colab.research.google.com/notebooks/data_table.ipynb>data table notebook</a>'\n",
              "            + ' to learn more about interactive tables.';\n",
              "          element.innerHTML = '';\n",
              "          dataTable['output_type'] = 'display_data';\n",
              "          await google.colab.output.renderOutput(dataTable, element);\n",
              "          const docLink = document.createElement('div');\n",
              "          docLink.innerHTML = docLinkHtml;\n",
              "          element.appendChild(docLink);\n",
              "        }\n",
              "      </script>\n",
              "    </div>\n",
              "  </div>\n",
              "  "
            ]
          },
          "metadata": {},
          "execution_count": 26
        }
      ]
    },
    {
      "cell_type": "code",
      "source": [
        "len(df_z)"
      ],
      "metadata": {
        "colab": {
          "base_uri": "https://localhost:8080/"
        },
        "id": "u8WNfzot_bYE",
        "outputId": "b488b3f4-6a24-40d1-d0a4-60f4b44df572"
      },
      "id": "u8WNfzot_bYE",
      "execution_count": 27,
      "outputs": [
        {
          "output_type": "execute_result",
          "data": {
            "text/plain": [
              "2930"
            ]
          },
          "metadata": {},
          "execution_count": 27
        }
      ]
    },
    {
      "cell_type": "code",
      "execution_count": 28,
      "id": "4c79c69f",
      "metadata": {
        "colab": {
          "base_uri": "https://localhost:8080/",
          "height": 206
        },
        "id": "4c79c69f",
        "outputId": "0e887f8d-ffd8-4939-a515-1111cb8183e7"
      },
      "outputs": [
        {
          "output_type": "execute_result",
          "data": {
            "text/plain": [
              "        BEME  Y_Momentum    lnSize  Industry\n",
              "1  -0.356774   -1.149657 -0.645114       NaN\n",
              "4   0.874090   -0.014588 -0.095234       NaN\n",
              "6   1.196365   -0.684708  0.147636       NaN\n",
              "10 -1.281006    1.132040  0.321364       NaN\n",
              "11 -1.445351    0.835154  0.141680       NaN"
            ],
            "text/html": [
              "\n",
              "  <div id=\"df-b50a150d-122a-409b-898d-99a645ef9ca7\">\n",
              "    <div class=\"colab-df-container\">\n",
              "      <div>\n",
              "<style scoped>\n",
              "    .dataframe tbody tr th:only-of-type {\n",
              "        vertical-align: middle;\n",
              "    }\n",
              "\n",
              "    .dataframe tbody tr th {\n",
              "        vertical-align: top;\n",
              "    }\n",
              "\n",
              "    .dataframe thead th {\n",
              "        text-align: right;\n",
              "    }\n",
              "</style>\n",
              "<table border=\"1\" class=\"dataframe\">\n",
              "  <thead>\n",
              "    <tr style=\"text-align: right;\">\n",
              "      <th></th>\n",
              "      <th>BEME</th>\n",
              "      <th>Y_Momentum</th>\n",
              "      <th>lnSize</th>\n",
              "      <th>Industry</th>\n",
              "    </tr>\n",
              "  </thead>\n",
              "  <tbody>\n",
              "    <tr>\n",
              "      <th>1</th>\n",
              "      <td>-0.356774</td>\n",
              "      <td>-1.149657</td>\n",
              "      <td>-0.645114</td>\n",
              "      <td>NaN</td>\n",
              "    </tr>\n",
              "    <tr>\n",
              "      <th>4</th>\n",
              "      <td>0.874090</td>\n",
              "      <td>-0.014588</td>\n",
              "      <td>-0.095234</td>\n",
              "      <td>NaN</td>\n",
              "    </tr>\n",
              "    <tr>\n",
              "      <th>6</th>\n",
              "      <td>1.196365</td>\n",
              "      <td>-0.684708</td>\n",
              "      <td>0.147636</td>\n",
              "      <td>NaN</td>\n",
              "    </tr>\n",
              "    <tr>\n",
              "      <th>10</th>\n",
              "      <td>-1.281006</td>\n",
              "      <td>1.132040</td>\n",
              "      <td>0.321364</td>\n",
              "      <td>NaN</td>\n",
              "    </tr>\n",
              "    <tr>\n",
              "      <th>11</th>\n",
              "      <td>-1.445351</td>\n",
              "      <td>0.835154</td>\n",
              "      <td>0.141680</td>\n",
              "      <td>NaN</td>\n",
              "    </tr>\n",
              "  </tbody>\n",
              "</table>\n",
              "</div>\n",
              "      <button class=\"colab-df-convert\" onclick=\"convertToInteractive('df-b50a150d-122a-409b-898d-99a645ef9ca7')\"\n",
              "              title=\"Convert this dataframe to an interactive table.\"\n",
              "              style=\"display:none;\">\n",
              "        \n",
              "  <svg xmlns=\"http://www.w3.org/2000/svg\" height=\"24px\"viewBox=\"0 0 24 24\"\n",
              "       width=\"24px\">\n",
              "    <path d=\"M0 0h24v24H0V0z\" fill=\"none\"/>\n",
              "    <path d=\"M18.56 5.44l.94 2.06.94-2.06 2.06-.94-2.06-.94-.94-2.06-.94 2.06-2.06.94zm-11 1L8.5 8.5l.94-2.06 2.06-.94-2.06-.94L8.5 2.5l-.94 2.06-2.06.94zm10 10l.94 2.06.94-2.06 2.06-.94-2.06-.94-.94-2.06-.94 2.06-2.06.94z\"/><path d=\"M17.41 7.96l-1.37-1.37c-.4-.4-.92-.59-1.43-.59-.52 0-1.04.2-1.43.59L10.3 9.45l-7.72 7.72c-.78.78-.78 2.05 0 2.83L4 21.41c.39.39.9.59 1.41.59.51 0 1.02-.2 1.41-.59l7.78-7.78 2.81-2.81c.8-.78.8-2.07 0-2.86zM5.41 20L4 18.59l7.72-7.72 1.47 1.35L5.41 20z\"/>\n",
              "  </svg>\n",
              "      </button>\n",
              "      \n",
              "  <style>\n",
              "    .colab-df-container {\n",
              "      display:flex;\n",
              "      flex-wrap:wrap;\n",
              "      gap: 12px;\n",
              "    }\n",
              "\n",
              "    .colab-df-convert {\n",
              "      background-color: #E8F0FE;\n",
              "      border: none;\n",
              "      border-radius: 50%;\n",
              "      cursor: pointer;\n",
              "      display: none;\n",
              "      fill: #1967D2;\n",
              "      height: 32px;\n",
              "      padding: 0 0 0 0;\n",
              "      width: 32px;\n",
              "    }\n",
              "\n",
              "    .colab-df-convert:hover {\n",
              "      background-color: #E2EBFA;\n",
              "      box-shadow: 0px 1px 2px rgba(60, 64, 67, 0.3), 0px 1px 3px 1px rgba(60, 64, 67, 0.15);\n",
              "      fill: #174EA6;\n",
              "    }\n",
              "\n",
              "    [theme=dark] .colab-df-convert {\n",
              "      background-color: #3B4455;\n",
              "      fill: #D2E3FC;\n",
              "    }\n",
              "\n",
              "    [theme=dark] .colab-df-convert:hover {\n",
              "      background-color: #434B5C;\n",
              "      box-shadow: 0px 1px 3px 1px rgba(0, 0, 0, 0.15);\n",
              "      filter: drop-shadow(0px 1px 2px rgba(0, 0, 0, 0.3));\n",
              "      fill: #FFFFFF;\n",
              "    }\n",
              "  </style>\n",
              "\n",
              "      <script>\n",
              "        const buttonEl =\n",
              "          document.querySelector('#df-b50a150d-122a-409b-898d-99a645ef9ca7 button.colab-df-convert');\n",
              "        buttonEl.style.display =\n",
              "          google.colab.kernel.accessAllowed ? 'block' : 'none';\n",
              "\n",
              "        async function convertToInteractive(key) {\n",
              "          const element = document.querySelector('#df-b50a150d-122a-409b-898d-99a645ef9ca7');\n",
              "          const dataTable =\n",
              "            await google.colab.kernel.invokeFunction('convertToInteractive',\n",
              "                                                     [key], {});\n",
              "          if (!dataTable) return;\n",
              "\n",
              "          const docLinkHtml = 'Like what you see? Visit the ' +\n",
              "            '<a target=\"_blank\" href=https://colab.research.google.com/notebooks/data_table.ipynb>data table notebook</a>'\n",
              "            + ' to learn more about interactive tables.';\n",
              "          element.innerHTML = '';\n",
              "          dataTable['output_type'] = 'display_data';\n",
              "          await google.colab.output.renderOutput(dataTable, element);\n",
              "          const docLink = document.createElement('div');\n",
              "          docLink.innerHTML = docLinkHtml;\n",
              "          element.appendChild(docLink);\n",
              "        }\n",
              "      </script>\n",
              "    </div>\n",
              "  </div>\n",
              "  "
            ]
          },
          "metadata": {},
          "execution_count": 28
        }
      ],
      "source": [
        "df_zscore = df_z.groupby('Industry').apply(lambda x: stats.zscore(x))\n",
        "df_zscore.head()"
      ]
    },
    {
      "cell_type": "code",
      "source": [
        "df_zscore = df_zscore.drop(columns = ['Industry'])\n",
        "df_zscore.head()"
      ],
      "metadata": {
        "colab": {
          "base_uri": "https://localhost:8080/",
          "height": 206
        },
        "id": "EFm3tKpBtrm0",
        "outputId": "1fb0fa0c-f62c-49f0-b5d4-8de53ad207c9"
      },
      "id": "EFm3tKpBtrm0",
      "execution_count": 29,
      "outputs": [
        {
          "output_type": "execute_result",
          "data": {
            "text/plain": [
              "        BEME  Y_Momentum    lnSize\n",
              "1  -0.356774   -1.149657 -0.645114\n",
              "4   0.874090   -0.014588 -0.095234\n",
              "6   1.196365   -0.684708  0.147636\n",
              "10 -1.281006    1.132040  0.321364\n",
              "11 -1.445351    0.835154  0.141680"
            ],
            "text/html": [
              "\n",
              "  <div id=\"df-a3a84f52-7b37-44e4-a793-7ea0f0c67dc7\">\n",
              "    <div class=\"colab-df-container\">\n",
              "      <div>\n",
              "<style scoped>\n",
              "    .dataframe tbody tr th:only-of-type {\n",
              "        vertical-align: middle;\n",
              "    }\n",
              "\n",
              "    .dataframe tbody tr th {\n",
              "        vertical-align: top;\n",
              "    }\n",
              "\n",
              "    .dataframe thead th {\n",
              "        text-align: right;\n",
              "    }\n",
              "</style>\n",
              "<table border=\"1\" class=\"dataframe\">\n",
              "  <thead>\n",
              "    <tr style=\"text-align: right;\">\n",
              "      <th></th>\n",
              "      <th>BEME</th>\n",
              "      <th>Y_Momentum</th>\n",
              "      <th>lnSize</th>\n",
              "    </tr>\n",
              "  </thead>\n",
              "  <tbody>\n",
              "    <tr>\n",
              "      <th>1</th>\n",
              "      <td>-0.356774</td>\n",
              "      <td>-1.149657</td>\n",
              "      <td>-0.645114</td>\n",
              "    </tr>\n",
              "    <tr>\n",
              "      <th>4</th>\n",
              "      <td>0.874090</td>\n",
              "      <td>-0.014588</td>\n",
              "      <td>-0.095234</td>\n",
              "    </tr>\n",
              "    <tr>\n",
              "      <th>6</th>\n",
              "      <td>1.196365</td>\n",
              "      <td>-0.684708</td>\n",
              "      <td>0.147636</td>\n",
              "    </tr>\n",
              "    <tr>\n",
              "      <th>10</th>\n",
              "      <td>-1.281006</td>\n",
              "      <td>1.132040</td>\n",
              "      <td>0.321364</td>\n",
              "    </tr>\n",
              "    <tr>\n",
              "      <th>11</th>\n",
              "      <td>-1.445351</td>\n",
              "      <td>0.835154</td>\n",
              "      <td>0.141680</td>\n",
              "    </tr>\n",
              "  </tbody>\n",
              "</table>\n",
              "</div>\n",
              "      <button class=\"colab-df-convert\" onclick=\"convertToInteractive('df-a3a84f52-7b37-44e4-a793-7ea0f0c67dc7')\"\n",
              "              title=\"Convert this dataframe to an interactive table.\"\n",
              "              style=\"display:none;\">\n",
              "        \n",
              "  <svg xmlns=\"http://www.w3.org/2000/svg\" height=\"24px\"viewBox=\"0 0 24 24\"\n",
              "       width=\"24px\">\n",
              "    <path d=\"M0 0h24v24H0V0z\" fill=\"none\"/>\n",
              "    <path d=\"M18.56 5.44l.94 2.06.94-2.06 2.06-.94-2.06-.94-.94-2.06-.94 2.06-2.06.94zm-11 1L8.5 8.5l.94-2.06 2.06-.94-2.06-.94L8.5 2.5l-.94 2.06-2.06.94zm10 10l.94 2.06.94-2.06 2.06-.94-2.06-.94-.94-2.06-.94 2.06-2.06.94z\"/><path d=\"M17.41 7.96l-1.37-1.37c-.4-.4-.92-.59-1.43-.59-.52 0-1.04.2-1.43.59L10.3 9.45l-7.72 7.72c-.78.78-.78 2.05 0 2.83L4 21.41c.39.39.9.59 1.41.59.51 0 1.02-.2 1.41-.59l7.78-7.78 2.81-2.81c.8-.78.8-2.07 0-2.86zM5.41 20L4 18.59l7.72-7.72 1.47 1.35L5.41 20z\"/>\n",
              "  </svg>\n",
              "      </button>\n",
              "      \n",
              "  <style>\n",
              "    .colab-df-container {\n",
              "      display:flex;\n",
              "      flex-wrap:wrap;\n",
              "      gap: 12px;\n",
              "    }\n",
              "\n",
              "    .colab-df-convert {\n",
              "      background-color: #E8F0FE;\n",
              "      border: none;\n",
              "      border-radius: 50%;\n",
              "      cursor: pointer;\n",
              "      display: none;\n",
              "      fill: #1967D2;\n",
              "      height: 32px;\n",
              "      padding: 0 0 0 0;\n",
              "      width: 32px;\n",
              "    }\n",
              "\n",
              "    .colab-df-convert:hover {\n",
              "      background-color: #E2EBFA;\n",
              "      box-shadow: 0px 1px 2px rgba(60, 64, 67, 0.3), 0px 1px 3px 1px rgba(60, 64, 67, 0.15);\n",
              "      fill: #174EA6;\n",
              "    }\n",
              "\n",
              "    [theme=dark] .colab-df-convert {\n",
              "      background-color: #3B4455;\n",
              "      fill: #D2E3FC;\n",
              "    }\n",
              "\n",
              "    [theme=dark] .colab-df-convert:hover {\n",
              "      background-color: #434B5C;\n",
              "      box-shadow: 0px 1px 3px 1px rgba(0, 0, 0, 0.15);\n",
              "      filter: drop-shadow(0px 1px 2px rgba(0, 0, 0, 0.3));\n",
              "      fill: #FFFFFF;\n",
              "    }\n",
              "  </style>\n",
              "\n",
              "      <script>\n",
              "        const buttonEl =\n",
              "          document.querySelector('#df-a3a84f52-7b37-44e4-a793-7ea0f0c67dc7 button.colab-df-convert');\n",
              "        buttonEl.style.display =\n",
              "          google.colab.kernel.accessAllowed ? 'block' : 'none';\n",
              "\n",
              "        async function convertToInteractive(key) {\n",
              "          const element = document.querySelector('#df-a3a84f52-7b37-44e4-a793-7ea0f0c67dc7');\n",
              "          const dataTable =\n",
              "            await google.colab.kernel.invokeFunction('convertToInteractive',\n",
              "                                                     [key], {});\n",
              "          if (!dataTable) return;\n",
              "\n",
              "          const docLinkHtml = 'Like what you see? Visit the ' +\n",
              "            '<a target=\"_blank\" href=https://colab.research.google.com/notebooks/data_table.ipynb>data table notebook</a>'\n",
              "            + ' to learn more about interactive tables.';\n",
              "          element.innerHTML = '';\n",
              "          dataTable['output_type'] = 'display_data';\n",
              "          await google.colab.output.renderOutput(dataTable, element);\n",
              "          const docLink = document.createElement('div');\n",
              "          docLink.innerHTML = docLinkHtml;\n",
              "          element.appendChild(docLink);\n",
              "        }\n",
              "      </script>\n",
              "    </div>\n",
              "  </div>\n",
              "  "
            ]
          },
          "metadata": {},
          "execution_count": 29
        }
      ]
    },
    {
      "cell_type": "code",
      "source": [
        "df_zscore = df_zscore.rename(columns={\"BEME\": \"zBEME\", \"Y_Momentum\": \"zMomentum\", \"lnSize\": \"zlnSize\"})\n",
        "df_zscore.head()"
      ],
      "metadata": {
        "colab": {
          "base_uri": "https://localhost:8080/",
          "height": 206
        },
        "id": "RiRz5Xe7-lLa",
        "outputId": "bf17fb69-f503-48de-b141-f19d97c25698"
      },
      "id": "RiRz5Xe7-lLa",
      "execution_count": 30,
      "outputs": [
        {
          "output_type": "execute_result",
          "data": {
            "text/plain": [
              "       zBEME  zMomentum   zlnSize\n",
              "1  -0.356774  -1.149657 -0.645114\n",
              "4   0.874090  -0.014588 -0.095234\n",
              "6   1.196365  -0.684708  0.147636\n",
              "10 -1.281006   1.132040  0.321364\n",
              "11 -1.445351   0.835154  0.141680"
            ],
            "text/html": [
              "\n",
              "  <div id=\"df-35445214-5e53-49d7-be01-fbfc94df97d9\">\n",
              "    <div class=\"colab-df-container\">\n",
              "      <div>\n",
              "<style scoped>\n",
              "    .dataframe tbody tr th:only-of-type {\n",
              "        vertical-align: middle;\n",
              "    }\n",
              "\n",
              "    .dataframe tbody tr th {\n",
              "        vertical-align: top;\n",
              "    }\n",
              "\n",
              "    .dataframe thead th {\n",
              "        text-align: right;\n",
              "    }\n",
              "</style>\n",
              "<table border=\"1\" class=\"dataframe\">\n",
              "  <thead>\n",
              "    <tr style=\"text-align: right;\">\n",
              "      <th></th>\n",
              "      <th>zBEME</th>\n",
              "      <th>zMomentum</th>\n",
              "      <th>zlnSize</th>\n",
              "    </tr>\n",
              "  </thead>\n",
              "  <tbody>\n",
              "    <tr>\n",
              "      <th>1</th>\n",
              "      <td>-0.356774</td>\n",
              "      <td>-1.149657</td>\n",
              "      <td>-0.645114</td>\n",
              "    </tr>\n",
              "    <tr>\n",
              "      <th>4</th>\n",
              "      <td>0.874090</td>\n",
              "      <td>-0.014588</td>\n",
              "      <td>-0.095234</td>\n",
              "    </tr>\n",
              "    <tr>\n",
              "      <th>6</th>\n",
              "      <td>1.196365</td>\n",
              "      <td>-0.684708</td>\n",
              "      <td>0.147636</td>\n",
              "    </tr>\n",
              "    <tr>\n",
              "      <th>10</th>\n",
              "      <td>-1.281006</td>\n",
              "      <td>1.132040</td>\n",
              "      <td>0.321364</td>\n",
              "    </tr>\n",
              "    <tr>\n",
              "      <th>11</th>\n",
              "      <td>-1.445351</td>\n",
              "      <td>0.835154</td>\n",
              "      <td>0.141680</td>\n",
              "    </tr>\n",
              "  </tbody>\n",
              "</table>\n",
              "</div>\n",
              "      <button class=\"colab-df-convert\" onclick=\"convertToInteractive('df-35445214-5e53-49d7-be01-fbfc94df97d9')\"\n",
              "              title=\"Convert this dataframe to an interactive table.\"\n",
              "              style=\"display:none;\">\n",
              "        \n",
              "  <svg xmlns=\"http://www.w3.org/2000/svg\" height=\"24px\"viewBox=\"0 0 24 24\"\n",
              "       width=\"24px\">\n",
              "    <path d=\"M0 0h24v24H0V0z\" fill=\"none\"/>\n",
              "    <path d=\"M18.56 5.44l.94 2.06.94-2.06 2.06-.94-2.06-.94-.94-2.06-.94 2.06-2.06.94zm-11 1L8.5 8.5l.94-2.06 2.06-.94-2.06-.94L8.5 2.5l-.94 2.06-2.06.94zm10 10l.94 2.06.94-2.06 2.06-.94-2.06-.94-.94-2.06-.94 2.06-2.06.94z\"/><path d=\"M17.41 7.96l-1.37-1.37c-.4-.4-.92-.59-1.43-.59-.52 0-1.04.2-1.43.59L10.3 9.45l-7.72 7.72c-.78.78-.78 2.05 0 2.83L4 21.41c.39.39.9.59 1.41.59.51 0 1.02-.2 1.41-.59l7.78-7.78 2.81-2.81c.8-.78.8-2.07 0-2.86zM5.41 20L4 18.59l7.72-7.72 1.47 1.35L5.41 20z\"/>\n",
              "  </svg>\n",
              "      </button>\n",
              "      \n",
              "  <style>\n",
              "    .colab-df-container {\n",
              "      display:flex;\n",
              "      flex-wrap:wrap;\n",
              "      gap: 12px;\n",
              "    }\n",
              "\n",
              "    .colab-df-convert {\n",
              "      background-color: #E8F0FE;\n",
              "      border: none;\n",
              "      border-radius: 50%;\n",
              "      cursor: pointer;\n",
              "      display: none;\n",
              "      fill: #1967D2;\n",
              "      height: 32px;\n",
              "      padding: 0 0 0 0;\n",
              "      width: 32px;\n",
              "    }\n",
              "\n",
              "    .colab-df-convert:hover {\n",
              "      background-color: #E2EBFA;\n",
              "      box-shadow: 0px 1px 2px rgba(60, 64, 67, 0.3), 0px 1px 3px 1px rgba(60, 64, 67, 0.15);\n",
              "      fill: #174EA6;\n",
              "    }\n",
              "\n",
              "    [theme=dark] .colab-df-convert {\n",
              "      background-color: #3B4455;\n",
              "      fill: #D2E3FC;\n",
              "    }\n",
              "\n",
              "    [theme=dark] .colab-df-convert:hover {\n",
              "      background-color: #434B5C;\n",
              "      box-shadow: 0px 1px 3px 1px rgba(0, 0, 0, 0.15);\n",
              "      filter: drop-shadow(0px 1px 2px rgba(0, 0, 0, 0.3));\n",
              "      fill: #FFFFFF;\n",
              "    }\n",
              "  </style>\n",
              "\n",
              "      <script>\n",
              "        const buttonEl =\n",
              "          document.querySelector('#df-35445214-5e53-49d7-be01-fbfc94df97d9 button.colab-df-convert');\n",
              "        buttonEl.style.display =\n",
              "          google.colab.kernel.accessAllowed ? 'block' : 'none';\n",
              "\n",
              "        async function convertToInteractive(key) {\n",
              "          const element = document.querySelector('#df-35445214-5e53-49d7-be01-fbfc94df97d9');\n",
              "          const dataTable =\n",
              "            await google.colab.kernel.invokeFunction('convertToInteractive',\n",
              "                                                     [key], {});\n",
              "          if (!dataTable) return;\n",
              "\n",
              "          const docLinkHtml = 'Like what you see? Visit the ' +\n",
              "            '<a target=\"_blank\" href=https://colab.research.google.com/notebooks/data_table.ipynb>data table notebook</a>'\n",
              "            + ' to learn more about interactive tables.';\n",
              "          element.innerHTML = '';\n",
              "          dataTable['output_type'] = 'display_data';\n",
              "          await google.colab.output.renderOutput(dataTable, element);\n",
              "          const docLink = document.createElement('div');\n",
              "          docLink.innerHTML = docLinkHtml;\n",
              "          element.appendChild(docLink);\n",
              "        }\n",
              "      </script>\n",
              "    </div>\n",
              "  </div>\n",
              "  "
            ]
          },
          "metadata": {},
          "execution_count": 30
        }
      ]
    },
    {
      "cell_type": "code",
      "source": [
        "final = pd.concat([data_var, df_zscore], axis = 1)\n",
        "final.head()"
      ],
      "metadata": {
        "colab": {
          "base_uri": "https://localhost:8080/",
          "height": 206
        },
        "id": "Sc9aJiy559FS",
        "outputId": "cfed7af2-b3fb-4b35-9082-a22eec4e72b7"
      },
      "id": "Sc9aJiy559FS",
      "execution_count": 31,
      "outputs": [
        {
          "output_type": "execute_result",
          "data": {
            "text/plain": [
              "        BEME  Y_Momentum     lnSize  Y_Return     zBEME  zMomentum   zlnSize\n",
              "1   0.343893   -0.293015  20.134441 -0.235714 -0.356774  -1.149657 -0.645114\n",
              "4   0.617725    0.205520  20.085956  0.006680  0.874090  -0.014588 -0.095234\n",
              "6   0.666132   -0.067387  20.873866  0.202298  1.196365  -0.684708  0.147636\n",
              "10  0.071201    0.715181  21.091513 -0.717144 -1.281006   1.132040  0.321364\n",
              "11  0.171745    0.439024  21.718123  0.564509 -1.445351   0.835154  0.141680"
            ],
            "text/html": [
              "\n",
              "  <div id=\"df-92e5483b-9490-49f5-afe3-d3b121141800\">\n",
              "    <div class=\"colab-df-container\">\n",
              "      <div>\n",
              "<style scoped>\n",
              "    .dataframe tbody tr th:only-of-type {\n",
              "        vertical-align: middle;\n",
              "    }\n",
              "\n",
              "    .dataframe tbody tr th {\n",
              "        vertical-align: top;\n",
              "    }\n",
              "\n",
              "    .dataframe thead th {\n",
              "        text-align: right;\n",
              "    }\n",
              "</style>\n",
              "<table border=\"1\" class=\"dataframe\">\n",
              "  <thead>\n",
              "    <tr style=\"text-align: right;\">\n",
              "      <th></th>\n",
              "      <th>BEME</th>\n",
              "      <th>Y_Momentum</th>\n",
              "      <th>lnSize</th>\n",
              "      <th>Y_Return</th>\n",
              "      <th>zBEME</th>\n",
              "      <th>zMomentum</th>\n",
              "      <th>zlnSize</th>\n",
              "    </tr>\n",
              "  </thead>\n",
              "  <tbody>\n",
              "    <tr>\n",
              "      <th>1</th>\n",
              "      <td>0.343893</td>\n",
              "      <td>-0.293015</td>\n",
              "      <td>20.134441</td>\n",
              "      <td>-0.235714</td>\n",
              "      <td>-0.356774</td>\n",
              "      <td>-1.149657</td>\n",
              "      <td>-0.645114</td>\n",
              "    </tr>\n",
              "    <tr>\n",
              "      <th>4</th>\n",
              "      <td>0.617725</td>\n",
              "      <td>0.205520</td>\n",
              "      <td>20.085956</td>\n",
              "      <td>0.006680</td>\n",
              "      <td>0.874090</td>\n",
              "      <td>-0.014588</td>\n",
              "      <td>-0.095234</td>\n",
              "    </tr>\n",
              "    <tr>\n",
              "      <th>6</th>\n",
              "      <td>0.666132</td>\n",
              "      <td>-0.067387</td>\n",
              "      <td>20.873866</td>\n",
              "      <td>0.202298</td>\n",
              "      <td>1.196365</td>\n",
              "      <td>-0.684708</td>\n",
              "      <td>0.147636</td>\n",
              "    </tr>\n",
              "    <tr>\n",
              "      <th>10</th>\n",
              "      <td>0.071201</td>\n",
              "      <td>0.715181</td>\n",
              "      <td>21.091513</td>\n",
              "      <td>-0.717144</td>\n",
              "      <td>-1.281006</td>\n",
              "      <td>1.132040</td>\n",
              "      <td>0.321364</td>\n",
              "    </tr>\n",
              "    <tr>\n",
              "      <th>11</th>\n",
              "      <td>0.171745</td>\n",
              "      <td>0.439024</td>\n",
              "      <td>21.718123</td>\n",
              "      <td>0.564509</td>\n",
              "      <td>-1.445351</td>\n",
              "      <td>0.835154</td>\n",
              "      <td>0.141680</td>\n",
              "    </tr>\n",
              "  </tbody>\n",
              "</table>\n",
              "</div>\n",
              "      <button class=\"colab-df-convert\" onclick=\"convertToInteractive('df-92e5483b-9490-49f5-afe3-d3b121141800')\"\n",
              "              title=\"Convert this dataframe to an interactive table.\"\n",
              "              style=\"display:none;\">\n",
              "        \n",
              "  <svg xmlns=\"http://www.w3.org/2000/svg\" height=\"24px\"viewBox=\"0 0 24 24\"\n",
              "       width=\"24px\">\n",
              "    <path d=\"M0 0h24v24H0V0z\" fill=\"none\"/>\n",
              "    <path d=\"M18.56 5.44l.94 2.06.94-2.06 2.06-.94-2.06-.94-.94-2.06-.94 2.06-2.06.94zm-11 1L8.5 8.5l.94-2.06 2.06-.94-2.06-.94L8.5 2.5l-.94 2.06-2.06.94zm10 10l.94 2.06.94-2.06 2.06-.94-2.06-.94-.94-2.06-.94 2.06-2.06.94z\"/><path d=\"M17.41 7.96l-1.37-1.37c-.4-.4-.92-.59-1.43-.59-.52 0-1.04.2-1.43.59L10.3 9.45l-7.72 7.72c-.78.78-.78 2.05 0 2.83L4 21.41c.39.39.9.59 1.41.59.51 0 1.02-.2 1.41-.59l7.78-7.78 2.81-2.81c.8-.78.8-2.07 0-2.86zM5.41 20L4 18.59l7.72-7.72 1.47 1.35L5.41 20z\"/>\n",
              "  </svg>\n",
              "      </button>\n",
              "      \n",
              "  <style>\n",
              "    .colab-df-container {\n",
              "      display:flex;\n",
              "      flex-wrap:wrap;\n",
              "      gap: 12px;\n",
              "    }\n",
              "\n",
              "    .colab-df-convert {\n",
              "      background-color: #E8F0FE;\n",
              "      border: none;\n",
              "      border-radius: 50%;\n",
              "      cursor: pointer;\n",
              "      display: none;\n",
              "      fill: #1967D2;\n",
              "      height: 32px;\n",
              "      padding: 0 0 0 0;\n",
              "      width: 32px;\n",
              "    }\n",
              "\n",
              "    .colab-df-convert:hover {\n",
              "      background-color: #E2EBFA;\n",
              "      box-shadow: 0px 1px 2px rgba(60, 64, 67, 0.3), 0px 1px 3px 1px rgba(60, 64, 67, 0.15);\n",
              "      fill: #174EA6;\n",
              "    }\n",
              "\n",
              "    [theme=dark] .colab-df-convert {\n",
              "      background-color: #3B4455;\n",
              "      fill: #D2E3FC;\n",
              "    }\n",
              "\n",
              "    [theme=dark] .colab-df-convert:hover {\n",
              "      background-color: #434B5C;\n",
              "      box-shadow: 0px 1px 3px 1px rgba(0, 0, 0, 0.15);\n",
              "      filter: drop-shadow(0px 1px 2px rgba(0, 0, 0, 0.3));\n",
              "      fill: #FFFFFF;\n",
              "    }\n",
              "  </style>\n",
              "\n",
              "      <script>\n",
              "        const buttonEl =\n",
              "          document.querySelector('#df-92e5483b-9490-49f5-afe3-d3b121141800 button.colab-df-convert');\n",
              "        buttonEl.style.display =\n",
              "          google.colab.kernel.accessAllowed ? 'block' : 'none';\n",
              "\n",
              "        async function convertToInteractive(key) {\n",
              "          const element = document.querySelector('#df-92e5483b-9490-49f5-afe3-d3b121141800');\n",
              "          const dataTable =\n",
              "            await google.colab.kernel.invokeFunction('convertToInteractive',\n",
              "                                                     [key], {});\n",
              "          if (!dataTable) return;\n",
              "\n",
              "          const docLinkHtml = 'Like what you see? Visit the ' +\n",
              "            '<a target=\"_blank\" href=https://colab.research.google.com/notebooks/data_table.ipynb>data table notebook</a>'\n",
              "            + ' to learn more about interactive tables.';\n",
              "          element.innerHTML = '';\n",
              "          dataTable['output_type'] = 'display_data';\n",
              "          await google.colab.output.renderOutput(dataTable, element);\n",
              "          const docLink = document.createElement('div');\n",
              "          docLink.innerHTML = docLinkHtml;\n",
              "          element.appendChild(docLink);\n",
              "        }\n",
              "      </script>\n",
              "    </div>\n",
              "  </div>\n",
              "  "
            ]
          },
          "metadata": {},
          "execution_count": 31
        }
      ]
    },
    {
      "cell_type": "markdown",
      "source": [
        "## Regression"
      ],
      "metadata": {
        "id": "aGmFlV8ZEGRw"
      },
      "id": "aGmFlV8ZEGRw"
    },
    {
      "cell_type": "code",
      "execution_count": 32,
      "id": "5886763e",
      "metadata": {
        "colab": {
          "base_uri": "https://localhost:8080/",
          "height": 537
        },
        "id": "5886763e",
        "outputId": "f6df015b-b98d-4676-a8c1-66566b3ad185"
      },
      "outputs": [
        {
          "output_type": "stream",
          "name": "stderr",
          "text": [
            "/usr/local/lib/python3.8/dist-packages/statsmodels/tsa/tsatools.py:142: FutureWarning: In a future version of pandas all arguments of concat except for the argument 'objs' will be keyword-only\n",
            "  x = pd.concat(x[::order], 1)\n"
          ]
        },
        {
          "output_type": "execute_result",
          "data": {
            "text/plain": [
              "<class 'statsmodels.iolib.summary.Summary'>\n",
              "\"\"\"\n",
              "                            OLS Regression Results                            \n",
              "==============================================================================\n",
              "Dep. Variable:               Y_Return   R-squared:                       0.007\n",
              "Model:                            OLS   Adj. R-squared:                  0.006\n",
              "Method:                 Least Squares   F-statistic:                     7.136\n",
              "Date:                Tue, 21 Feb 2023   Prob (F-statistic):           8.97e-05\n",
              "Time:                        19:26:41   Log-Likelihood:                -1104.4\n",
              "No. Observations:                2930   AIC:                             2217.\n",
              "Df Residuals:                    2926   BIC:                             2241.\n",
              "Df Model:                           3                                         \n",
              "Covariance Type:            nonrobust                                         \n",
              "==============================================================================\n",
              "                 coef    std err          t      P>|t|      [0.025      0.975]\n",
              "------------------------------------------------------------------------------\n",
              "const          0.1030      0.007     15.796      0.000       0.090       0.116\n",
              "zBEME          0.0197      0.007      2.871      0.004       0.006       0.033\n",
              "zMomentum      0.0237      0.007      3.537      0.000       0.011       0.037\n",
              "zlnSize        0.0174      0.007      2.609      0.009       0.004       0.030\n",
              "==============================================================================\n",
              "Omnibus:                     1192.799   Durbin-Watson:                   2.016\n",
              "Prob(Omnibus):                  0.000   Jarque-Bera (JB):             9065.227\n",
              "Skew:                           1.743   Prob(JB):                         0.00\n",
              "Kurtosis:                      10.880   Cond. No.                         1.38\n",
              "==============================================================================\n",
              "\n",
              "Notes:\n",
              "[1] Standard Errors assume that the covariance matrix of the errors is correctly specified.\n",
              "\"\"\""
            ],
            "text/html": [
              "<table class=\"simpletable\">\n",
              "<caption>OLS Regression Results</caption>\n",
              "<tr>\n",
              "  <th>Dep. Variable:</th>        <td>Y_Return</td>     <th>  R-squared:         </th> <td>   0.007</td>\n",
              "</tr>\n",
              "<tr>\n",
              "  <th>Model:</th>                   <td>OLS</td>       <th>  Adj. R-squared:    </th> <td>   0.006</td>\n",
              "</tr>\n",
              "<tr>\n",
              "  <th>Method:</th>             <td>Least Squares</td>  <th>  F-statistic:       </th> <td>   7.136</td>\n",
              "</tr>\n",
              "<tr>\n",
              "  <th>Date:</th>             <td>Tue, 21 Feb 2023</td> <th>  Prob (F-statistic):</th> <td>8.97e-05</td>\n",
              "</tr>\n",
              "<tr>\n",
              "  <th>Time:</th>                 <td>19:26:41</td>     <th>  Log-Likelihood:    </th> <td> -1104.4</td>\n",
              "</tr>\n",
              "<tr>\n",
              "  <th>No. Observations:</th>      <td>  2930</td>      <th>  AIC:               </th> <td>   2217.</td>\n",
              "</tr>\n",
              "<tr>\n",
              "  <th>Df Residuals:</th>          <td>  2926</td>      <th>  BIC:               </th> <td>   2241.</td>\n",
              "</tr>\n",
              "<tr>\n",
              "  <th>Df Model:</th>              <td>     3</td>      <th>                     </th>     <td> </td>   \n",
              "</tr>\n",
              "<tr>\n",
              "  <th>Covariance Type:</th>      <td>nonrobust</td>    <th>                     </th>     <td> </td>   \n",
              "</tr>\n",
              "</table>\n",
              "<table class=\"simpletable\">\n",
              "<tr>\n",
              "      <td></td>         <th>coef</th>     <th>std err</th>      <th>t</th>      <th>P>|t|</th>  <th>[0.025</th>    <th>0.975]</th>  \n",
              "</tr>\n",
              "<tr>\n",
              "  <th>const</th>     <td>    0.1030</td> <td>    0.007</td> <td>   15.796</td> <td> 0.000</td> <td>    0.090</td> <td>    0.116</td>\n",
              "</tr>\n",
              "<tr>\n",
              "  <th>zBEME</th>     <td>    0.0197</td> <td>    0.007</td> <td>    2.871</td> <td> 0.004</td> <td>    0.006</td> <td>    0.033</td>\n",
              "</tr>\n",
              "<tr>\n",
              "  <th>zMomentum</th> <td>    0.0237</td> <td>    0.007</td> <td>    3.537</td> <td> 0.000</td> <td>    0.011</td> <td>    0.037</td>\n",
              "</tr>\n",
              "<tr>\n",
              "  <th>zlnSize</th>   <td>    0.0174</td> <td>    0.007</td> <td>    2.609</td> <td> 0.009</td> <td>    0.004</td> <td>    0.030</td>\n",
              "</tr>\n",
              "</table>\n",
              "<table class=\"simpletable\">\n",
              "<tr>\n",
              "  <th>Omnibus:</th>       <td>1192.799</td> <th>  Durbin-Watson:     </th> <td>   2.016</td>\n",
              "</tr>\n",
              "<tr>\n",
              "  <th>Prob(Omnibus):</th>  <td> 0.000</td>  <th>  Jarque-Bera (JB):  </th> <td>9065.227</td>\n",
              "</tr>\n",
              "<tr>\n",
              "  <th>Skew:</th>           <td> 1.743</td>  <th>  Prob(JB):          </th> <td>    0.00</td>\n",
              "</tr>\n",
              "<tr>\n",
              "  <th>Kurtosis:</th>       <td>10.880</td>  <th>  Cond. No.          </th> <td>    1.38</td>\n",
              "</tr>\n",
              "</table><br/><br/>Notes:<br/>[1] Standard Errors assume that the covariance matrix of the errors is correctly specified."
            ]
          },
          "metadata": {},
          "execution_count": 32
        }
      ],
      "source": [
        "import statsmodels.api as sm\n",
        "\n",
        "result = sm.OLS(endog = final[\"Y_Return\"], exog = sm.add_constant(final[['zBEME','zMomentum',\t'zlnSize']])).fit().summary()\n",
        "\n",
        "result"
      ]
    },
    {
      "cell_type": "markdown",
      "source": [
        "# Problem 4.6 Interpretation"
      ],
      "metadata": {
        "id": "Qiu3d19WEa5W"
      },
      "id": "Qiu3d19WEa5W"
    },
    {
      "cell_type": "markdown",
      "source": [
        "Adjusted R^2: 0.006 or 0.6%. The model is not fitting the data well.\n",
        "All variables have a p_value below 0.05 and so are significant a that level."
      ],
      "metadata": {
        "id": "vzB2oXDcflqc"
      },
      "id": "vzB2oXDcflqc"
    },
    {
      "cell_type": "markdown",
      "source": [],
      "metadata": {
        "id": "uFcLbu5DFCtL"
      },
      "id": "uFcLbu5DFCtL"
    },
    {
      "cell_type": "code",
      "source": [],
      "metadata": {
        "id": "ygCI-5PIi6jS"
      },
      "id": "ygCI-5PIi6jS",
      "execution_count": 32,
      "outputs": []
    },
    {
      "cell_type": "markdown",
      "source": [
        "# Problem 4.7 Unrestricted and Restricted"
      ],
      "metadata": {
        "id": "MW3x4haBEl7t"
      },
      "id": "MW3x4haBEl7t"
    },
    {
      "cell_type": "markdown",
      "source": [
        "## Unrestricted Model"
      ],
      "metadata": {
        "id": "y4rW8wZTEqLC"
      },
      "id": "y4rW8wZTEqLC"
    },
    {
      "cell_type": "code",
      "source": [
        "import statsmodels.api as sm\n",
        "Y = final[\"Y_Return\"]\n",
        "X = final[['zBEME','zMomentum',\t'zlnSize']]\n",
        "X_const = sm.add_constant(X)\n",
        "model = sm.OLS(Y,X_const)\n",
        "r_u = model.fit()\n",
        "r_u.summary()"
      ],
      "metadata": {
        "id": "Ya-4abi6i6gt",
        "colab": {
          "base_uri": "https://localhost:8080/",
          "height": 537
        },
        "outputId": "68101330-aff8-493c-e339-ffe226589113"
      },
      "id": "Ya-4abi6i6gt",
      "execution_count": 33,
      "outputs": [
        {
          "output_type": "stream",
          "name": "stderr",
          "text": [
            "/usr/local/lib/python3.8/dist-packages/statsmodels/tsa/tsatools.py:142: FutureWarning: In a future version of pandas all arguments of concat except for the argument 'objs' will be keyword-only\n",
            "  x = pd.concat(x[::order], 1)\n"
          ]
        },
        {
          "output_type": "execute_result",
          "data": {
            "text/plain": [
              "<class 'statsmodels.iolib.summary.Summary'>\n",
              "\"\"\"\n",
              "                            OLS Regression Results                            \n",
              "==============================================================================\n",
              "Dep. Variable:               Y_Return   R-squared:                       0.007\n",
              "Model:                            OLS   Adj. R-squared:                  0.006\n",
              "Method:                 Least Squares   F-statistic:                     7.136\n",
              "Date:                Tue, 21 Feb 2023   Prob (F-statistic):           8.97e-05\n",
              "Time:                        19:26:41   Log-Likelihood:                -1104.4\n",
              "No. Observations:                2930   AIC:                             2217.\n",
              "Df Residuals:                    2926   BIC:                             2241.\n",
              "Df Model:                           3                                         \n",
              "Covariance Type:            nonrobust                                         \n",
              "==============================================================================\n",
              "                 coef    std err          t      P>|t|      [0.025      0.975]\n",
              "------------------------------------------------------------------------------\n",
              "const          0.1030      0.007     15.796      0.000       0.090       0.116\n",
              "zBEME          0.0197      0.007      2.871      0.004       0.006       0.033\n",
              "zMomentum      0.0237      0.007      3.537      0.000       0.011       0.037\n",
              "zlnSize        0.0174      0.007      2.609      0.009       0.004       0.030\n",
              "==============================================================================\n",
              "Omnibus:                     1192.799   Durbin-Watson:                   2.016\n",
              "Prob(Omnibus):                  0.000   Jarque-Bera (JB):             9065.227\n",
              "Skew:                           1.743   Prob(JB):                         0.00\n",
              "Kurtosis:                      10.880   Cond. No.                         1.38\n",
              "==============================================================================\n",
              "\n",
              "Notes:\n",
              "[1] Standard Errors assume that the covariance matrix of the errors is correctly specified.\n",
              "\"\"\""
            ],
            "text/html": [
              "<table class=\"simpletable\">\n",
              "<caption>OLS Regression Results</caption>\n",
              "<tr>\n",
              "  <th>Dep. Variable:</th>        <td>Y_Return</td>     <th>  R-squared:         </th> <td>   0.007</td>\n",
              "</tr>\n",
              "<tr>\n",
              "  <th>Model:</th>                   <td>OLS</td>       <th>  Adj. R-squared:    </th> <td>   0.006</td>\n",
              "</tr>\n",
              "<tr>\n",
              "  <th>Method:</th>             <td>Least Squares</td>  <th>  F-statistic:       </th> <td>   7.136</td>\n",
              "</tr>\n",
              "<tr>\n",
              "  <th>Date:</th>             <td>Tue, 21 Feb 2023</td> <th>  Prob (F-statistic):</th> <td>8.97e-05</td>\n",
              "</tr>\n",
              "<tr>\n",
              "  <th>Time:</th>                 <td>19:26:41</td>     <th>  Log-Likelihood:    </th> <td> -1104.4</td>\n",
              "</tr>\n",
              "<tr>\n",
              "  <th>No. Observations:</th>      <td>  2930</td>      <th>  AIC:               </th> <td>   2217.</td>\n",
              "</tr>\n",
              "<tr>\n",
              "  <th>Df Residuals:</th>          <td>  2926</td>      <th>  BIC:               </th> <td>   2241.</td>\n",
              "</tr>\n",
              "<tr>\n",
              "  <th>Df Model:</th>              <td>     3</td>      <th>                     </th>     <td> </td>   \n",
              "</tr>\n",
              "<tr>\n",
              "  <th>Covariance Type:</th>      <td>nonrobust</td>    <th>                     </th>     <td> </td>   \n",
              "</tr>\n",
              "</table>\n",
              "<table class=\"simpletable\">\n",
              "<tr>\n",
              "      <td></td>         <th>coef</th>     <th>std err</th>      <th>t</th>      <th>P>|t|</th>  <th>[0.025</th>    <th>0.975]</th>  \n",
              "</tr>\n",
              "<tr>\n",
              "  <th>const</th>     <td>    0.1030</td> <td>    0.007</td> <td>   15.796</td> <td> 0.000</td> <td>    0.090</td> <td>    0.116</td>\n",
              "</tr>\n",
              "<tr>\n",
              "  <th>zBEME</th>     <td>    0.0197</td> <td>    0.007</td> <td>    2.871</td> <td> 0.004</td> <td>    0.006</td> <td>    0.033</td>\n",
              "</tr>\n",
              "<tr>\n",
              "  <th>zMomentum</th> <td>    0.0237</td> <td>    0.007</td> <td>    3.537</td> <td> 0.000</td> <td>    0.011</td> <td>    0.037</td>\n",
              "</tr>\n",
              "<tr>\n",
              "  <th>zlnSize</th>   <td>    0.0174</td> <td>    0.007</td> <td>    2.609</td> <td> 0.009</td> <td>    0.004</td> <td>    0.030</td>\n",
              "</tr>\n",
              "</table>\n",
              "<table class=\"simpletable\">\n",
              "<tr>\n",
              "  <th>Omnibus:</th>       <td>1192.799</td> <th>  Durbin-Watson:     </th> <td>   2.016</td>\n",
              "</tr>\n",
              "<tr>\n",
              "  <th>Prob(Omnibus):</th>  <td> 0.000</td>  <th>  Jarque-Bera (JB):  </th> <td>9065.227</td>\n",
              "</tr>\n",
              "<tr>\n",
              "  <th>Skew:</th>           <td> 1.743</td>  <th>  Prob(JB):          </th> <td>    0.00</td>\n",
              "</tr>\n",
              "<tr>\n",
              "  <th>Kurtosis:</th>       <td>10.880</td>  <th>  Cond. No.          </th> <td>    1.38</td>\n",
              "</tr>\n",
              "</table><br/><br/>Notes:<br/>[1] Standard Errors assume that the covariance matrix of the errors is correctly specified."
            ]
          },
          "metadata": {},
          "execution_count": 33
        }
      ]
    },
    {
      "cell_type": "code",
      "source": [
        "resid_u = sum(r_u.resid**2)\n",
        "resid_u"
      ],
      "metadata": {
        "id": "-kaRVk-Hi6eP",
        "colab": {
          "base_uri": "https://localhost:8080/"
        },
        "outputId": "377da3c8-9081-4f35-ca69-d34fc33013df"
      },
      "id": "-kaRVk-Hi6eP",
      "execution_count": 34,
      "outputs": [
        {
          "output_type": "execute_result",
          "data": {
            "text/plain": [
              "364.5681839022638"
            ]
          },
          "metadata": {},
          "execution_count": 34
        }
      ]
    },
    {
      "cell_type": "markdown",
      "source": [
        "## Restricted Model"
      ],
      "metadata": {
        "id": "7ag_C_OjEzwo"
      },
      "id": "7ag_C_OjEzwo"
    },
    {
      "cell_type": "code",
      "source": [
        "Y = final[\"Y_Return\"]\n",
        "X = final[['zMomentum']]\n",
        "X_const = sm.add_constant(X)\n",
        "model = sm.OLS(Y,X_const)\n",
        "r_r = model.fit()\n",
        "r_r.summary()"
      ],
      "metadata": {
        "id": "YA_BWkG8i6cB",
        "colab": {
          "base_uri": "https://localhost:8080/",
          "height": 496
        },
        "outputId": "5ebd70cb-669c-4ebd-ecfc-4b3d500a25be"
      },
      "id": "YA_BWkG8i6cB",
      "execution_count": 35,
      "outputs": [
        {
          "output_type": "stream",
          "name": "stderr",
          "text": [
            "/usr/local/lib/python3.8/dist-packages/statsmodels/tsa/tsatools.py:142: FutureWarning: In a future version of pandas all arguments of concat except for the argument 'objs' will be keyword-only\n",
            "  x = pd.concat(x[::order], 1)\n"
          ]
        },
        {
          "output_type": "execute_result",
          "data": {
            "text/plain": [
              "<class 'statsmodels.iolib.summary.Summary'>\n",
              "\"\"\"\n",
              "                            OLS Regression Results                            \n",
              "==============================================================================\n",
              "Dep. Variable:               Y_Return   R-squared:                       0.003\n",
              "Model:                            OLS   Adj. R-squared:                  0.003\n",
              "Method:                 Least Squares   F-statistic:                     8.928\n",
              "Date:                Tue, 21 Feb 2023   Prob (F-statistic):            0.00283\n",
              "Time:                        19:26:41   Log-Likelihood:                -1110.6\n",
              "No. Observations:                2930   AIC:                             2225.\n",
              "Df Residuals:                    2928   BIC:                             2237.\n",
              "Df Model:                           1                                         \n",
              "Covariance Type:            nonrobust                                         \n",
              "==============================================================================\n",
              "                 coef    std err          t      P>|t|      [0.025      0.975]\n",
              "------------------------------------------------------------------------------\n",
              "const          0.1030      0.007     15.768      0.000       0.090       0.116\n",
              "zMomentum      0.0195      0.007      2.988      0.003       0.007       0.032\n",
              "==============================================================================\n",
              "Omnibus:                     1163.437   Durbin-Watson:                   2.018\n",
              "Prob(Omnibus):                  0.000   Jarque-Bera (JB):             8705.919\n",
              "Skew:                           1.697   Prob(JB):                         0.00\n",
              "Kurtosis:                      10.733   Cond. No.                         1.00\n",
              "==============================================================================\n",
              "\n",
              "Notes:\n",
              "[1] Standard Errors assume that the covariance matrix of the errors is correctly specified.\n",
              "\"\"\""
            ],
            "text/html": [
              "<table class=\"simpletable\">\n",
              "<caption>OLS Regression Results</caption>\n",
              "<tr>\n",
              "  <th>Dep. Variable:</th>        <td>Y_Return</td>     <th>  R-squared:         </th> <td>   0.003</td>\n",
              "</tr>\n",
              "<tr>\n",
              "  <th>Model:</th>                   <td>OLS</td>       <th>  Adj. R-squared:    </th> <td>   0.003</td>\n",
              "</tr>\n",
              "<tr>\n",
              "  <th>Method:</th>             <td>Least Squares</td>  <th>  F-statistic:       </th> <td>   8.928</td>\n",
              "</tr>\n",
              "<tr>\n",
              "  <th>Date:</th>             <td>Tue, 21 Feb 2023</td> <th>  Prob (F-statistic):</th>  <td>0.00283</td>\n",
              "</tr>\n",
              "<tr>\n",
              "  <th>Time:</th>                 <td>19:26:41</td>     <th>  Log-Likelihood:    </th> <td> -1110.6</td>\n",
              "</tr>\n",
              "<tr>\n",
              "  <th>No. Observations:</th>      <td>  2930</td>      <th>  AIC:               </th> <td>   2225.</td>\n",
              "</tr>\n",
              "<tr>\n",
              "  <th>Df Residuals:</th>          <td>  2928</td>      <th>  BIC:               </th> <td>   2237.</td>\n",
              "</tr>\n",
              "<tr>\n",
              "  <th>Df Model:</th>              <td>     1</td>      <th>                     </th>     <td> </td>   \n",
              "</tr>\n",
              "<tr>\n",
              "  <th>Covariance Type:</th>      <td>nonrobust</td>    <th>                     </th>     <td> </td>   \n",
              "</tr>\n",
              "</table>\n",
              "<table class=\"simpletable\">\n",
              "<tr>\n",
              "      <td></td>         <th>coef</th>     <th>std err</th>      <th>t</th>      <th>P>|t|</th>  <th>[0.025</th>    <th>0.975]</th>  \n",
              "</tr>\n",
              "<tr>\n",
              "  <th>const</th>     <td>    0.1030</td> <td>    0.007</td> <td>   15.768</td> <td> 0.000</td> <td>    0.090</td> <td>    0.116</td>\n",
              "</tr>\n",
              "<tr>\n",
              "  <th>zMomentum</th> <td>    0.0195</td> <td>    0.007</td> <td>    2.988</td> <td> 0.003</td> <td>    0.007</td> <td>    0.032</td>\n",
              "</tr>\n",
              "</table>\n",
              "<table class=\"simpletable\">\n",
              "<tr>\n",
              "  <th>Omnibus:</th>       <td>1163.437</td> <th>  Durbin-Watson:     </th> <td>   2.018</td>\n",
              "</tr>\n",
              "<tr>\n",
              "  <th>Prob(Omnibus):</th>  <td> 0.000</td>  <th>  Jarque-Bera (JB):  </th> <td>8705.919</td>\n",
              "</tr>\n",
              "<tr>\n",
              "  <th>Skew:</th>           <td> 1.697</td>  <th>  Prob(JB):          </th> <td>    0.00</td>\n",
              "</tr>\n",
              "<tr>\n",
              "  <th>Kurtosis:</th>       <td>10.733</td>  <th>  Cond. No.          </th> <td>    1.00</td>\n",
              "</tr>\n",
              "</table><br/><br/>Notes:<br/>[1] Standard Errors assume that the covariance matrix of the errors is correctly specified."
            ]
          },
          "metadata": {},
          "execution_count": 35
        }
      ]
    },
    {
      "cell_type": "code",
      "source": [
        "resid_r = sum(r_r.resid**2)\n",
        "resid_r"
      ],
      "metadata": {
        "id": "HfxsqTKai6aS",
        "colab": {
          "base_uri": "https://localhost:8080/"
        },
        "outputId": "a43ab72c-d5dd-414d-fede-fbca639d3750"
      },
      "id": "HfxsqTKai6aS",
      "execution_count": 36,
      "outputs": [
        {
          "output_type": "execute_result",
          "data": {
            "text/plain": [
              "366.119299782035"
            ]
          },
          "metadata": {},
          "execution_count": 36
        }
      ]
    },
    {
      "cell_type": "markdown",
      "source": [
        "### F stats"
      ],
      "metadata": {
        "id": "l1JJuRYXE209"
      },
      "id": "l1JJuRYXE209"
    },
    {
      "cell_type": "code",
      "source": [
        "f_stat = ((resid_r-resid_u)/resid_u)*((2930-3-1)/2)\n",
        "f_stat"
      ],
      "metadata": {
        "colab": {
          "base_uri": "https://localhost:8080/"
        },
        "id": "vwokwNI4Snlz",
        "outputId": "c7df61fa-cf06-4e19-e308-418dab7e8523"
      },
      "id": "vwokwNI4Snlz",
      "execution_count": 37,
      "outputs": [
        {
          "output_type": "execute_result",
          "data": {
            "text/plain": [
              "6.224576450460735"
            ]
          },
          "metadata": {},
          "execution_count": 37
        }
      ]
    },
    {
      "cell_type": "code",
      "source": [
        "f_critical = stats.f.ppf(0.95, 2, 2930)\n",
        "f_critical"
      ],
      "metadata": {
        "colab": {
          "base_uri": "https://localhost:8080/"
        },
        "id": "VtfcTmG4Snis",
        "outputId": "9e3b7de5-b9d8-42f0-f60f-6298251d01aa"
      },
      "id": "VtfcTmG4Snis",
      "execution_count": 38,
      "outputs": [
        {
          "output_type": "execute_result",
          "data": {
            "text/plain": [
              "2.998797301592456"
            ]
          },
          "metadata": {},
          "execution_count": 38
        }
      ]
    },
    {
      "cell_type": "code",
      "source": [
        "p_val = stats.f.sf(f_stat, 2, 2930)\n",
        "p_val"
      ],
      "metadata": {
        "colab": {
          "base_uri": "https://localhost:8080/"
        },
        "id": "n7kqkVY7SnfG",
        "outputId": "375cbee3-8c5a-416a-ccb3-480d8a64eeb2"
      },
      "id": "n7kqkVY7SnfG",
      "execution_count": 39,
      "outputs": [
        {
          "output_type": "execute_result",
          "data": {
            "text/plain": [
              "0.002006446325605991"
            ]
          },
          "metadata": {},
          "execution_count": 39
        }
      ]
    },
    {
      "cell_type": "markdown",
      "source": [
        "#Problem 4.8"
      ],
      "metadata": {
        "id": "5CxOfPQ8Ikzn"
      },
      "id": "5CxOfPQ8Ikzn"
    },
    {
      "cell_type": "code",
      "source": [
        "r_u.summary()"
      ],
      "metadata": {
        "id": "BXye2IeUWCFK",
        "colab": {
          "base_uri": "https://localhost:8080/",
          "height": 483
        },
        "outputId": "2c0994cd-7847-4e28-ae1f-19bbd0743b6c"
      },
      "id": "BXye2IeUWCFK",
      "execution_count": 43,
      "outputs": [
        {
          "output_type": "execute_result",
          "data": {
            "text/plain": [
              "<class 'statsmodels.iolib.summary.Summary'>\n",
              "\"\"\"\n",
              "                            OLS Regression Results                            \n",
              "==============================================================================\n",
              "Dep. Variable:               Y_Return   R-squared:                       0.007\n",
              "Model:                            OLS   Adj. R-squared:                  0.006\n",
              "Method:                 Least Squares   F-statistic:                     7.136\n",
              "Date:                Tue, 21 Feb 2023   Prob (F-statistic):           8.97e-05\n",
              "Time:                        19:35:19   Log-Likelihood:                -1104.4\n",
              "No. Observations:                2930   AIC:                             2217.\n",
              "Df Residuals:                    2926   BIC:                             2241.\n",
              "Df Model:                           3                                         \n",
              "Covariance Type:            nonrobust                                         \n",
              "==============================================================================\n",
              "                 coef    std err          t      P>|t|      [0.025      0.975]\n",
              "------------------------------------------------------------------------------\n",
              "const          0.1030      0.007     15.796      0.000       0.090       0.116\n",
              "zBEME          0.0197      0.007      2.871      0.004       0.006       0.033\n",
              "zMomentum      0.0237      0.007      3.537      0.000       0.011       0.037\n",
              "zlnSize        0.0174      0.007      2.609      0.009       0.004       0.030\n",
              "==============================================================================\n",
              "Omnibus:                     1192.799   Durbin-Watson:                   2.016\n",
              "Prob(Omnibus):                  0.000   Jarque-Bera (JB):             9065.227\n",
              "Skew:                           1.743   Prob(JB):                         0.00\n",
              "Kurtosis:                      10.880   Cond. No.                         1.38\n",
              "==============================================================================\n",
              "\n",
              "Notes:\n",
              "[1] Standard Errors assume that the covariance matrix of the errors is correctly specified.\n",
              "\"\"\""
            ],
            "text/html": [
              "<table class=\"simpletable\">\n",
              "<caption>OLS Regression Results</caption>\n",
              "<tr>\n",
              "  <th>Dep. Variable:</th>        <td>Y_Return</td>     <th>  R-squared:         </th> <td>   0.007</td>\n",
              "</tr>\n",
              "<tr>\n",
              "  <th>Model:</th>                   <td>OLS</td>       <th>  Adj. R-squared:    </th> <td>   0.006</td>\n",
              "</tr>\n",
              "<tr>\n",
              "  <th>Method:</th>             <td>Least Squares</td>  <th>  F-statistic:       </th> <td>   7.136</td>\n",
              "</tr>\n",
              "<tr>\n",
              "  <th>Date:</th>             <td>Tue, 21 Feb 2023</td> <th>  Prob (F-statistic):</th> <td>8.97e-05</td>\n",
              "</tr>\n",
              "<tr>\n",
              "  <th>Time:</th>                 <td>19:35:19</td>     <th>  Log-Likelihood:    </th> <td> -1104.4</td>\n",
              "</tr>\n",
              "<tr>\n",
              "  <th>No. Observations:</th>      <td>  2930</td>      <th>  AIC:               </th> <td>   2217.</td>\n",
              "</tr>\n",
              "<tr>\n",
              "  <th>Df Residuals:</th>          <td>  2926</td>      <th>  BIC:               </th> <td>   2241.</td>\n",
              "</tr>\n",
              "<tr>\n",
              "  <th>Df Model:</th>              <td>     3</td>      <th>                     </th>     <td> </td>   \n",
              "</tr>\n",
              "<tr>\n",
              "  <th>Covariance Type:</th>      <td>nonrobust</td>    <th>                     </th>     <td> </td>   \n",
              "</tr>\n",
              "</table>\n",
              "<table class=\"simpletable\">\n",
              "<tr>\n",
              "      <td></td>         <th>coef</th>     <th>std err</th>      <th>t</th>      <th>P>|t|</th>  <th>[0.025</th>    <th>0.975]</th>  \n",
              "</tr>\n",
              "<tr>\n",
              "  <th>const</th>     <td>    0.1030</td> <td>    0.007</td> <td>   15.796</td> <td> 0.000</td> <td>    0.090</td> <td>    0.116</td>\n",
              "</tr>\n",
              "<tr>\n",
              "  <th>zBEME</th>     <td>    0.0197</td> <td>    0.007</td> <td>    2.871</td> <td> 0.004</td> <td>    0.006</td> <td>    0.033</td>\n",
              "</tr>\n",
              "<tr>\n",
              "  <th>zMomentum</th> <td>    0.0237</td> <td>    0.007</td> <td>    3.537</td> <td> 0.000</td> <td>    0.011</td> <td>    0.037</td>\n",
              "</tr>\n",
              "<tr>\n",
              "  <th>zlnSize</th>   <td>    0.0174</td> <td>    0.007</td> <td>    2.609</td> <td> 0.009</td> <td>    0.004</td> <td>    0.030</td>\n",
              "</tr>\n",
              "</table>\n",
              "<table class=\"simpletable\">\n",
              "<tr>\n",
              "  <th>Omnibus:</th>       <td>1192.799</td> <th>  Durbin-Watson:     </th> <td>   2.016</td>\n",
              "</tr>\n",
              "<tr>\n",
              "  <th>Prob(Omnibus):</th>  <td> 0.000</td>  <th>  Jarque-Bera (JB):  </th> <td>9065.227</td>\n",
              "</tr>\n",
              "<tr>\n",
              "  <th>Skew:</th>           <td> 1.743</td>  <th>  Prob(JB):          </th> <td>    0.00</td>\n",
              "</tr>\n",
              "<tr>\n",
              "  <th>Kurtosis:</th>       <td>10.880</td>  <th>  Cond. No.          </th> <td>    1.38</td>\n",
              "</tr>\n",
              "</table><br/><br/>Notes:<br/>[1] Standard Errors assume that the covariance matrix of the errors is correctly specified."
            ]
          },
          "metadata": {},
          "execution_count": 43
        }
      ]
    },
    {
      "cell_type": "markdown",
      "source": [
        "As we can see in the result of our unrestricted model, all variables have a p-value below the 0.05 threshold, and a t-stat all above the 95% threshold (1.96). We can say from our findings that all variables are significant."
      ],
      "metadata": {
        "id": "q6Rj77rpeTJD"
      },
      "id": "q6Rj77rpeTJD"
    },
    {
      "cell_type": "markdown",
      "source": [
        "# Problem 4.9"
      ],
      "metadata": {
        "id": "qMzLxPtTIioH"
      },
      "id": "qMzLxPtTIioH"
    },
    {
      "cell_type": "code",
      "source": [
        "r_u.params"
      ],
      "metadata": {
        "colab": {
          "base_uri": "https://localhost:8080/"
        },
        "id": "8E3bdWDdIoWv",
        "outputId": "651a17a6-fc10-41bb-8b03-815162e96c10"
      },
      "id": "8E3bdWDdIoWv",
      "execution_count": 40,
      "outputs": [
        {
          "output_type": "execute_result",
          "data": {
            "text/plain": [
              "const        0.103010\n",
              "zBEME        0.019692\n",
              "zMomentum    0.023727\n",
              "zlnSize      0.017406\n",
              "dtype: float64"
            ]
          },
          "metadata": {},
          "execution_count": 40
        }
      ]
    },
    {
      "cell_type": "markdown",
      "source": [
        "The coefficients we are seeing are positive, meaning that they effect yearly returns positively. When it comes to the economic meaning and interpretation, it makes sense that, within the magnitude we have as we are looking at zscore in relation to the yearly returns, zBEME and zMomentum make economic sense, but zlnSize might not make sense, as we have learned small cap may outperform and give better returns compared to big cap, due to the upside potential they may have."
      ],
      "metadata": {
        "id": "Eul7rOBmcWYw"
      },
      "id": "Eul7rOBmcWYw"
    },
    {
      "cell_type": "markdown",
      "source": [
        "# Problem 4.10 Test for heteroskedasticity"
      ],
      "metadata": {
        "id": "nKJdWQc9Fqg5"
      },
      "id": "nKJdWQc9Fqg5"
    },
    {
      "cell_type": "code",
      "source": [
        "from statsmodels.compat import lzip\n",
        "import statsmodels.stats.api as sms\n",
        "\n",
        "name = ['Lagrange multiplier statistic', 'p-value', 'f-value', 'f p-value']\n",
        "test = sms.het_breuschpagan(r_u.resid, r_u.model.exog)\n",
        "lzip(name, test)"
      ],
      "metadata": {
        "colab": {
          "base_uri": "https://localhost:8080/"
        },
        "id": "AtihHyJEFtif",
        "outputId": "4179420a-47be-4011-cfbf-719c5da6f46e"
      },
      "id": "AtihHyJEFtif",
      "execution_count": 41,
      "outputs": [
        {
          "output_type": "execute_result",
          "data": {
            "text/plain": [
              "[('Lagrange multiplier statistic', 29.43618148188787),\n",
              " ('p-value', 1.8132658618853906e-06),\n",
              " ('f-value', 9.89810629989946),\n",
              " ('f p-value', 1.7163097539622465e-06)]"
            ]
          },
          "metadata": {},
          "execution_count": 41
        }
      ]
    },
    {
      "cell_type": "markdown",
      "source": [
        "We can see that the p_value is below 0.05 and so we can conclude that there is heteroskedasticity."
      ],
      "metadata": {
        "id": "a7GSVnmKhYaE"
      },
      "id": "a7GSVnmKhYaE"
    },
    {
      "cell_type": "code",
      "source": [],
      "metadata": {
        "id": "LENwH-Y6Ftmu"
      },
      "id": "LENwH-Y6Ftmu",
      "execution_count": 41,
      "outputs": []
    },
    {
      "cell_type": "markdown",
      "source": [
        "# Problem 4.11 Test for  the  presence  of  serial  correlation"
      ],
      "metadata": {
        "id": "yIfjdsfmFuYv"
      },
      "id": "yIfjdsfmFuYv"
    },
    {
      "cell_type": "code",
      "source": [
        "#Durbin-Watson Test\n",
        "import statsmodels.formula.api as smf\n",
        "formula = 'Y_Return ~ zBEME + zMomentum + zlnSize'\n",
        "results = smf.ols(formula, final).fit()\n",
        "sms.stattools.durbin_watson(results.resid, axis=0)"
      ],
      "metadata": {
        "colab": {
          "base_uri": "https://localhost:8080/"
        },
        "id": "QFRv7RatF7SF",
        "outputId": "4458b15f-a3b6-4442-a9a3-8e05bae1437c"
      },
      "id": "QFRv7RatF7SF",
      "execution_count": 42,
      "outputs": [
        {
          "output_type": "execute_result",
          "data": {
            "text/plain": [
              "2.0157919484505578"
            ]
          },
          "metadata": {},
          "execution_count": 42
        }
      ]
    },
    {
      "cell_type": "markdown",
      "source": [
        "Since we have a 2.016, we can say that there is no presence of serial correlation."
      ],
      "metadata": {
        "id": "G2lI3FBMd7-_"
      },
      "id": "G2lI3FBMd7-_"
    },
    {
      "cell_type": "code",
      "source": [],
      "metadata": {
        "id": "dVJhy_C5F7z3"
      },
      "id": "dVJhy_C5F7z3",
      "execution_count": 42,
      "outputs": []
    }
  ],
  "metadata": {
    "kernelspec": {
      "display_name": "Python 3",
      "language": "python",
      "name": "python3"
    },
    "language_info": {
      "codemirror_mode": {
        "name": "ipython",
        "version": 3
      },
      "file_extension": ".py",
      "mimetype": "text/x-python",
      "name": "python",
      "nbconvert_exporter": "python",
      "pygments_lexer": "ipython3",
      "version": "3.8.8"
    },
    "varInspector": {
      "cols": {
        "lenName": 16,
        "lenType": 16,
        "lenVar": 40
      },
      "kernels_config": {
        "python": {
          "delete_cmd_postfix": "",
          "delete_cmd_prefix": "del ",
          "library": "var_list.py",
          "varRefreshCmd": "print(var_dic_list())"
        },
        "r": {
          "delete_cmd_postfix": ") ",
          "delete_cmd_prefix": "rm(",
          "library": "var_list.r",
          "varRefreshCmd": "cat(var_dic_list()) "
        }
      },
      "types_to_exclude": [
        "module",
        "function",
        "builtin_function_or_method",
        "instance",
        "_Feature"
      ],
      "window_display": false
    },
    "colab": {
      "provenance": [],
      "collapsed_sections": [
        "PeifCEiFDM-2",
        "l1MaHrOIDRH4",
        "B6PvXWFNDYEa",
        "TicvJFahDf3O",
        "Qiu3d19WEa5W",
        "MW3x4haBEl7t",
        "y4rW8wZTEqLC",
        "7ag_C_OjEzwo",
        "l1JJuRYXE209",
        "5CxOfPQ8Ikzn",
        "qMzLxPtTIioH",
        "yIfjdsfmFuYv"
      ]
    }
  },
  "nbformat": 4,
  "nbformat_minor": 5
}